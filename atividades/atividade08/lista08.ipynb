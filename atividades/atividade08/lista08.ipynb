{
 "cells": [
  {
   "cell_type": "markdown",
   "source": [
    "# Lista 08\r\n",
    "\r\n",
    "## Nome: Jorge Lucas Colares Martins\r\n",
    "## Matricula: 402119\r\n"
   ],
   "metadata": {}
  },
  {
   "cell_type": "markdown",
   "source": [
    "## Importando bibliotecas"
   ],
   "metadata": {}
  },
  {
   "cell_type": "code",
   "execution_count": 374,
   "source": [
    "import pandas as pd\r\n",
    "import numpy as np\r\n",
    "from sklearn.model_selection import train_test_split\r\n",
    "from sklearn.linear_model import Lasso\r\n",
    "from sklearn.datasets import load_boston\r\n",
    "from sklearn.linear_model import Ridge\r\n",
    "import matplotlib.pyplot as plt\r\n",
    "from sklearn.linear_model import LogisticRegression\r\n",
    "from sklearn import metrics\r\n",
    "import warnings\r\n",
    "warnings.filterwarnings('ignore')"
   ],
   "outputs": [],
   "metadata": {}
  },
  {
   "cell_type": "markdown",
   "source": [
    "## Questão 01"
   ],
   "metadata": {}
  },
  {
   "cell_type": "markdown",
   "source": [
    "### Criando dataframe"
   ],
   "metadata": {}
  },
  {
   "cell_type": "code",
   "execution_count": 375,
   "source": [
    "data = load_boston()\r\n",
    "\r\n",
    "df = pd.DataFrame(data = data.data, columns=data.feature_names)\r\n",
    "\r\n",
    "df.sample(10)"
   ],
   "outputs": [
    {
     "output_type": "execute_result",
     "data": {
      "text/plain": [
       "        CRIM    ZN  INDUS  CHAS    NOX     RM    AGE     DIS   RAD    TAX  \\\n",
       "258  0.66351  20.0   3.97   0.0  0.647  7.333  100.0  1.8946   5.0  264.0   \n",
       "459  6.80117   0.0  18.10   0.0  0.713  6.081   84.4  2.7175  24.0  666.0   \n",
       "157  1.22358   0.0  19.58   0.0  0.605  6.943   97.4  1.8773   5.0  403.0   \n",
       "316  0.31827   0.0   9.90   0.0  0.544  5.914   83.2  3.9986   4.0  304.0   \n",
       "135  0.55778   0.0  21.89   0.0  0.624  6.335   98.2  2.1107   4.0  437.0   \n",
       "29   1.00245   0.0   8.14   0.0  0.538  6.674   87.3  4.2390   4.0  307.0   \n",
       "448  9.32909   0.0  18.10   0.0  0.713  6.185   98.7  2.2616  24.0  666.0   \n",
       "192  0.08664  45.0   3.44   0.0  0.437  7.178   26.3  6.4798   5.0  398.0   \n",
       "41   0.12744   0.0   6.91   0.0  0.448  6.770    2.9  5.7209   3.0  233.0   \n",
       "256  0.01538  90.0   3.75   0.0  0.394  7.454   34.2  6.3361   3.0  244.0   \n",
       "\n",
       "     PTRATIO       B  LSTAT  \n",
       "258     13.0  383.29   7.79  \n",
       "459     20.2  396.90  14.70  \n",
       "157     14.7  363.43   4.59  \n",
       "316     18.4  390.70  18.33  \n",
       "135     21.2  394.67  16.96  \n",
       "29      21.0  380.23  11.98  \n",
       "448     20.2  396.90  18.13  \n",
       "192     15.2  390.49   2.87  \n",
       "41      17.9  385.41   4.84  \n",
       "256     15.9  386.34   3.11  "
      ],
      "text/html": [
       "<div>\n",
       "<style scoped>\n",
       "    .dataframe tbody tr th:only-of-type {\n",
       "        vertical-align: middle;\n",
       "    }\n",
       "\n",
       "    .dataframe tbody tr th {\n",
       "        vertical-align: top;\n",
       "    }\n",
       "\n",
       "    .dataframe thead th {\n",
       "        text-align: right;\n",
       "    }\n",
       "</style>\n",
       "<table border=\"1\" class=\"dataframe\">\n",
       "  <thead>\n",
       "    <tr style=\"text-align: right;\">\n",
       "      <th></th>\n",
       "      <th>CRIM</th>\n",
       "      <th>ZN</th>\n",
       "      <th>INDUS</th>\n",
       "      <th>CHAS</th>\n",
       "      <th>NOX</th>\n",
       "      <th>RM</th>\n",
       "      <th>AGE</th>\n",
       "      <th>DIS</th>\n",
       "      <th>RAD</th>\n",
       "      <th>TAX</th>\n",
       "      <th>PTRATIO</th>\n",
       "      <th>B</th>\n",
       "      <th>LSTAT</th>\n",
       "    </tr>\n",
       "  </thead>\n",
       "  <tbody>\n",
       "    <tr>\n",
       "      <th>258</th>\n",
       "      <td>0.66351</td>\n",
       "      <td>20.0</td>\n",
       "      <td>3.97</td>\n",
       "      <td>0.0</td>\n",
       "      <td>0.647</td>\n",
       "      <td>7.333</td>\n",
       "      <td>100.0</td>\n",
       "      <td>1.8946</td>\n",
       "      <td>5.0</td>\n",
       "      <td>264.0</td>\n",
       "      <td>13.0</td>\n",
       "      <td>383.29</td>\n",
       "      <td>7.79</td>\n",
       "    </tr>\n",
       "    <tr>\n",
       "      <th>459</th>\n",
       "      <td>6.80117</td>\n",
       "      <td>0.0</td>\n",
       "      <td>18.10</td>\n",
       "      <td>0.0</td>\n",
       "      <td>0.713</td>\n",
       "      <td>6.081</td>\n",
       "      <td>84.4</td>\n",
       "      <td>2.7175</td>\n",
       "      <td>24.0</td>\n",
       "      <td>666.0</td>\n",
       "      <td>20.2</td>\n",
       "      <td>396.90</td>\n",
       "      <td>14.70</td>\n",
       "    </tr>\n",
       "    <tr>\n",
       "      <th>157</th>\n",
       "      <td>1.22358</td>\n",
       "      <td>0.0</td>\n",
       "      <td>19.58</td>\n",
       "      <td>0.0</td>\n",
       "      <td>0.605</td>\n",
       "      <td>6.943</td>\n",
       "      <td>97.4</td>\n",
       "      <td>1.8773</td>\n",
       "      <td>5.0</td>\n",
       "      <td>403.0</td>\n",
       "      <td>14.7</td>\n",
       "      <td>363.43</td>\n",
       "      <td>4.59</td>\n",
       "    </tr>\n",
       "    <tr>\n",
       "      <th>316</th>\n",
       "      <td>0.31827</td>\n",
       "      <td>0.0</td>\n",
       "      <td>9.90</td>\n",
       "      <td>0.0</td>\n",
       "      <td>0.544</td>\n",
       "      <td>5.914</td>\n",
       "      <td>83.2</td>\n",
       "      <td>3.9986</td>\n",
       "      <td>4.0</td>\n",
       "      <td>304.0</td>\n",
       "      <td>18.4</td>\n",
       "      <td>390.70</td>\n",
       "      <td>18.33</td>\n",
       "    </tr>\n",
       "    <tr>\n",
       "      <th>135</th>\n",
       "      <td>0.55778</td>\n",
       "      <td>0.0</td>\n",
       "      <td>21.89</td>\n",
       "      <td>0.0</td>\n",
       "      <td>0.624</td>\n",
       "      <td>6.335</td>\n",
       "      <td>98.2</td>\n",
       "      <td>2.1107</td>\n",
       "      <td>4.0</td>\n",
       "      <td>437.0</td>\n",
       "      <td>21.2</td>\n",
       "      <td>394.67</td>\n",
       "      <td>16.96</td>\n",
       "    </tr>\n",
       "    <tr>\n",
       "      <th>29</th>\n",
       "      <td>1.00245</td>\n",
       "      <td>0.0</td>\n",
       "      <td>8.14</td>\n",
       "      <td>0.0</td>\n",
       "      <td>0.538</td>\n",
       "      <td>6.674</td>\n",
       "      <td>87.3</td>\n",
       "      <td>4.2390</td>\n",
       "      <td>4.0</td>\n",
       "      <td>307.0</td>\n",
       "      <td>21.0</td>\n",
       "      <td>380.23</td>\n",
       "      <td>11.98</td>\n",
       "    </tr>\n",
       "    <tr>\n",
       "      <th>448</th>\n",
       "      <td>9.32909</td>\n",
       "      <td>0.0</td>\n",
       "      <td>18.10</td>\n",
       "      <td>0.0</td>\n",
       "      <td>0.713</td>\n",
       "      <td>6.185</td>\n",
       "      <td>98.7</td>\n",
       "      <td>2.2616</td>\n",
       "      <td>24.0</td>\n",
       "      <td>666.0</td>\n",
       "      <td>20.2</td>\n",
       "      <td>396.90</td>\n",
       "      <td>18.13</td>\n",
       "    </tr>\n",
       "    <tr>\n",
       "      <th>192</th>\n",
       "      <td>0.08664</td>\n",
       "      <td>45.0</td>\n",
       "      <td>3.44</td>\n",
       "      <td>0.0</td>\n",
       "      <td>0.437</td>\n",
       "      <td>7.178</td>\n",
       "      <td>26.3</td>\n",
       "      <td>6.4798</td>\n",
       "      <td>5.0</td>\n",
       "      <td>398.0</td>\n",
       "      <td>15.2</td>\n",
       "      <td>390.49</td>\n",
       "      <td>2.87</td>\n",
       "    </tr>\n",
       "    <tr>\n",
       "      <th>41</th>\n",
       "      <td>0.12744</td>\n",
       "      <td>0.0</td>\n",
       "      <td>6.91</td>\n",
       "      <td>0.0</td>\n",
       "      <td>0.448</td>\n",
       "      <td>6.770</td>\n",
       "      <td>2.9</td>\n",
       "      <td>5.7209</td>\n",
       "      <td>3.0</td>\n",
       "      <td>233.0</td>\n",
       "      <td>17.9</td>\n",
       "      <td>385.41</td>\n",
       "      <td>4.84</td>\n",
       "    </tr>\n",
       "    <tr>\n",
       "      <th>256</th>\n",
       "      <td>0.01538</td>\n",
       "      <td>90.0</td>\n",
       "      <td>3.75</td>\n",
       "      <td>0.0</td>\n",
       "      <td>0.394</td>\n",
       "      <td>7.454</td>\n",
       "      <td>34.2</td>\n",
       "      <td>6.3361</td>\n",
       "      <td>3.0</td>\n",
       "      <td>244.0</td>\n",
       "      <td>15.9</td>\n",
       "      <td>386.34</td>\n",
       "      <td>3.11</td>\n",
       "    </tr>\n",
       "  </tbody>\n",
       "</table>\n",
       "</div>"
      ]
     },
     "metadata": {},
     "execution_count": 375
    }
   ],
   "metadata": {}
  },
  {
   "cell_type": "markdown",
   "source": [
    "### Sepaparando em treino e teste"
   ],
   "metadata": {}
  },
  {
   "cell_type": "code",
   "execution_count": 376,
   "source": [
    "X, y = load_boston(return_X_y=True)\r\n",
    "\r\n",
    "result_list = []\r\n",
    "\r\n",
    "X_train, X_test, y_train, y_test = train_test_split(X, y, test_size = 0.3, random_state=42)"
   ],
   "outputs": [],
   "metadata": {}
  },
  {
   "cell_type": "markdown",
   "source": [
    "### Item a)"
   ],
   "metadata": {}
  },
  {
   "cell_type": "code",
   "execution_count": 377,
   "source": [
    "print('Alpha: 0.1, Normalize: False')\r\n",
    "lasso = Lasso(alpha=0.1, normalize=False)\r\n",
    "lasso.fit(X_train, y_train)\r\n",
    "lasso.predict(X_test)\r\n",
    "print(\"Coeficientes: \",*lasso.coef_ ,sep = \"\\n\")\r\n",
    "\r\n",
    "result = {'Alpha': 0.1, 'Normalize': False}\r\n",
    "for i, value in zip(df.columns, lasso.coef_):\r\n",
    "    result[i] = value\r\n",
    "\r\n",
    "result_list.append(result)"
   ],
   "outputs": [
    {
     "output_type": "stream",
     "name": "stdout",
     "text": [
      "Alpha: 0.1, Normalize: False\n",
      "Coeficientes: \n",
      "-0.12285442236904869\n",
      "0.038638584896334385\n",
      "-0.0004971883845239215\n",
      "1.4835375939521476\n",
      "-0.0\n",
      "3.8936742074757085\n",
      "-0.019604817948392594\n",
      "-1.1056139701534526\n",
      "0.21667347897121828\n",
      "-0.01058440036605593\n",
      "-0.7440145159976705\n",
      "0.012395905914001139\n",
      "-0.6022816365659217\n"
     ]
    }
   ],
   "metadata": {}
  },
  {
   "cell_type": "code",
   "execution_count": 378,
   "source": [
    "\r\n",
    "print('\\n Alpha: 0.1, Normalize: True')\r\n",
    "lasso = Lasso(alpha=0.1, normalize=True)\r\n",
    "lasso.fit(X_train, y_train)\r\n",
    "lasso.predict(X_test)\r\n",
    "print(\"Coeficientes: \",*lasso.coef_ ,sep = \"\\n\")\r\n",
    "\r\n",
    "result = {'Alpha': 0.1, 'Normalize': True}\r\n",
    "for i, value in zip(df.columns, lasso.coef_):\r\n",
    "    result[i] = value\r\n",
    "\r\n",
    "result_list.append(result)"
   ],
   "outputs": [
    {
     "output_type": "stream",
     "name": "stdout",
     "text": [
      "\n",
      " Alpha: 0.1, Normalize: True\n",
      "Coeficientes: \n",
      "-0.0\n",
      "0.0\n",
      "-0.0\n",
      "0.0\n",
      "-0.0\n",
      "3.188528939402271\n",
      "-0.0\n",
      "-0.0\n",
      "-0.0\n",
      "-0.0\n",
      "-0.3066900998405716\n",
      "0.0\n",
      "-0.4866647584743145\n"
     ]
    }
   ],
   "metadata": {}
  },
  {
   "cell_type": "markdown",
   "source": [
    "### Item b)"
   ],
   "metadata": {}
  },
  {
   "cell_type": "code",
   "execution_count": 379,
   "source": [
    "print('Alpha: 0.4, Normalize: False')\r\n",
    "lasso = Lasso(alpha=0.4, normalize=False)\r\n",
    "lasso.fit(X_train, y_train)\r\n",
    "lasso.predict(X_test)\r\n",
    "print(\"Coeficientes: \",*lasso.coef_ ,sep = \"\\n\")\r\n",
    "\r\n",
    "result = {'Alpha': 0.4, 'Normalize': False}\r\n",
    "for i, value in zip(df.columns, lasso.coef_):\r\n",
    "    result[i] = value\r\n",
    "\r\n",
    "result_list.append(result)"
   ],
   "outputs": [
    {
     "output_type": "stream",
     "name": "stdout",
     "text": [
      "Alpha: 0.4, Normalize: False\n",
      "Coeficientes: \n",
      "-0.11576163023052455\n",
      "0.03826390061301022\n",
      "-0.0\n",
      "0.0\n",
      "-0.0\n",
      "3.029047873677166\n",
      "-0.005942926032743746\n",
      "-0.9459188293241345\n",
      "0.2183236834627618\n",
      "-0.01054259508525185\n",
      "-0.7399564658184024\n",
      "0.01213879190729223\n",
      "-0.6698095192443357\n"
     ]
    }
   ],
   "metadata": {}
  },
  {
   "cell_type": "code",
   "execution_count": 380,
   "source": [
    "print('\\n Alpha: 0.4, Normalize: True')\r\n",
    "lasso = Lasso(alpha=0.4, normalize=True)\r\n",
    "lasso.fit(X_train, y_train)\r\n",
    "lasso.predict(X_test)\r\n",
    "print(\"Coeficientes: \",*lasso.coef_ ,sep = \"\\n\")\r\n",
    "\r\n",
    "result = {'Alpha': 0.4, 'Normalize': True}\r\n",
    "for i, value in zip(df.columns, lasso.coef_):\r\n",
    "    result[i] = value\r\n",
    "\r\n",
    "result_list.append(result)"
   ],
   "outputs": [
    {
     "output_type": "stream",
     "name": "stdout",
     "text": [
      "\n",
      " Alpha: 0.4, Normalize: True\n",
      "Coeficientes: \n",
      "-0.0\n",
      "0.0\n",
      "-0.0\n",
      "0.0\n",
      "-0.0\n",
      "0.0\n",
      "-0.0\n",
      "0.0\n",
      "-0.0\n",
      "-0.0\n",
      "-0.0\n",
      "0.0\n",
      "-0.0\n"
     ]
    }
   ],
   "metadata": {}
  },
  {
   "cell_type": "markdown",
   "source": [
    "### Item c)"
   ],
   "metadata": {}
  },
  {
   "cell_type": "markdown",
   "source": [
    "Sim, foram zeradas, como mostra no dataframe abaixo"
   ],
   "metadata": {}
  },
  {
   "cell_type": "code",
   "execution_count": 381,
   "source": [
    "df_result = pd.DataFrame(result_list)\r\n",
    "df_result"
   ],
   "outputs": [
    {
     "output_type": "execute_result",
     "data": {
      "text/plain": [
       "   Alpha  Normalize      CRIM        ZN     INDUS      CHAS  NOX        RM  \\\n",
       "0    0.1      False -0.122854  0.038639 -0.000497  1.483538 -0.0  3.893674   \n",
       "1    0.1       True -0.000000  0.000000 -0.000000  0.000000 -0.0  3.188529   \n",
       "2    0.4      False -0.115762  0.038264 -0.000000  0.000000 -0.0  3.029048   \n",
       "3    0.4       True -0.000000  0.000000 -0.000000  0.000000 -0.0  0.000000   \n",
       "\n",
       "        AGE       DIS       RAD       TAX   PTRATIO         B     LSTAT  \n",
       "0 -0.019605 -1.105614  0.216673 -0.010584 -0.744015  0.012396 -0.602282  \n",
       "1 -0.000000 -0.000000 -0.000000 -0.000000 -0.306690  0.000000 -0.486665  \n",
       "2 -0.005943 -0.945919  0.218324 -0.010543 -0.739956  0.012139 -0.669810  \n",
       "3 -0.000000  0.000000 -0.000000 -0.000000 -0.000000  0.000000 -0.000000  "
      ],
      "text/html": [
       "<div>\n",
       "<style scoped>\n",
       "    .dataframe tbody tr th:only-of-type {\n",
       "        vertical-align: middle;\n",
       "    }\n",
       "\n",
       "    .dataframe tbody tr th {\n",
       "        vertical-align: top;\n",
       "    }\n",
       "\n",
       "    .dataframe thead th {\n",
       "        text-align: right;\n",
       "    }\n",
       "</style>\n",
       "<table border=\"1\" class=\"dataframe\">\n",
       "  <thead>\n",
       "    <tr style=\"text-align: right;\">\n",
       "      <th></th>\n",
       "      <th>Alpha</th>\n",
       "      <th>Normalize</th>\n",
       "      <th>CRIM</th>\n",
       "      <th>ZN</th>\n",
       "      <th>INDUS</th>\n",
       "      <th>CHAS</th>\n",
       "      <th>NOX</th>\n",
       "      <th>RM</th>\n",
       "      <th>AGE</th>\n",
       "      <th>DIS</th>\n",
       "      <th>RAD</th>\n",
       "      <th>TAX</th>\n",
       "      <th>PTRATIO</th>\n",
       "      <th>B</th>\n",
       "      <th>LSTAT</th>\n",
       "    </tr>\n",
       "  </thead>\n",
       "  <tbody>\n",
       "    <tr>\n",
       "      <th>0</th>\n",
       "      <td>0.1</td>\n",
       "      <td>False</td>\n",
       "      <td>-0.122854</td>\n",
       "      <td>0.038639</td>\n",
       "      <td>-0.000497</td>\n",
       "      <td>1.483538</td>\n",
       "      <td>-0.0</td>\n",
       "      <td>3.893674</td>\n",
       "      <td>-0.019605</td>\n",
       "      <td>-1.105614</td>\n",
       "      <td>0.216673</td>\n",
       "      <td>-0.010584</td>\n",
       "      <td>-0.744015</td>\n",
       "      <td>0.012396</td>\n",
       "      <td>-0.602282</td>\n",
       "    </tr>\n",
       "    <tr>\n",
       "      <th>1</th>\n",
       "      <td>0.1</td>\n",
       "      <td>True</td>\n",
       "      <td>-0.000000</td>\n",
       "      <td>0.000000</td>\n",
       "      <td>-0.000000</td>\n",
       "      <td>0.000000</td>\n",
       "      <td>-0.0</td>\n",
       "      <td>3.188529</td>\n",
       "      <td>-0.000000</td>\n",
       "      <td>-0.000000</td>\n",
       "      <td>-0.000000</td>\n",
       "      <td>-0.000000</td>\n",
       "      <td>-0.306690</td>\n",
       "      <td>0.000000</td>\n",
       "      <td>-0.486665</td>\n",
       "    </tr>\n",
       "    <tr>\n",
       "      <th>2</th>\n",
       "      <td>0.4</td>\n",
       "      <td>False</td>\n",
       "      <td>-0.115762</td>\n",
       "      <td>0.038264</td>\n",
       "      <td>-0.000000</td>\n",
       "      <td>0.000000</td>\n",
       "      <td>-0.0</td>\n",
       "      <td>3.029048</td>\n",
       "      <td>-0.005943</td>\n",
       "      <td>-0.945919</td>\n",
       "      <td>0.218324</td>\n",
       "      <td>-0.010543</td>\n",
       "      <td>-0.739956</td>\n",
       "      <td>0.012139</td>\n",
       "      <td>-0.669810</td>\n",
       "    </tr>\n",
       "    <tr>\n",
       "      <th>3</th>\n",
       "      <td>0.4</td>\n",
       "      <td>True</td>\n",
       "      <td>-0.000000</td>\n",
       "      <td>0.000000</td>\n",
       "      <td>-0.000000</td>\n",
       "      <td>0.000000</td>\n",
       "      <td>-0.0</td>\n",
       "      <td>0.000000</td>\n",
       "      <td>-0.000000</td>\n",
       "      <td>0.000000</td>\n",
       "      <td>-0.000000</td>\n",
       "      <td>-0.000000</td>\n",
       "      <td>-0.000000</td>\n",
       "      <td>0.000000</td>\n",
       "      <td>-0.000000</td>\n",
       "    </tr>\n",
       "  </tbody>\n",
       "</table>\n",
       "</div>"
      ]
     },
     "metadata": {},
     "execution_count": 381
    }
   ],
   "metadata": {}
  },
  {
   "cell_type": "markdown",
   "source": [
    "## Questão 02"
   ],
   "metadata": {}
  },
  {
   "cell_type": "code",
   "execution_count": 382,
   "source": [
    "X_train, X_test, y_train, y_test = train_test_split(X, y, test_size = 0.3, random_state=42)\r\n",
    "\r\n",
    "result_list = []\r\n"
   ],
   "outputs": [],
   "metadata": {}
  },
  {
   "cell_type": "markdown",
   "source": [
    "### Item a)"
   ],
   "metadata": {}
  },
  {
   "cell_type": "code",
   "execution_count": 383,
   "source": [
    "valores_alpha = np.logspace(-4, 0, 5)\r\n",
    "scr_list = []\r\n",
    "\r\n",
    "for i in valores_alpha:\r\n",
    "    ridge = Ridge(alpha=i, normalize=True)\r\n",
    "    ridge.fit(X_train, y_train)\r\n",
    "    ridge_pred = ridge.predict(X_test)\r\n",
    "    scr = ridge.score(X_test, y_test)\r\n",
    "\r\n",
    "    scr_list.append(scr)\r\n",
    "    result = {'Alpha': i, 'Normalize': True, 'R² Score': scr}\r\n",
    "    result_list.append(result)\r\n",
    "\r\n",
    "\r\n",
    "\r\n"
   ],
   "outputs": [],
   "metadata": {}
  },
  {
   "cell_type": "code",
   "execution_count": 384,
   "source": [
    "plt.plot(valores_alpha, scr_list)\r\n",
    "plt.title('Grafico de amostra normalizado')\r\n",
    "plt.ylabel(' Socores R²')\r\n",
    "plt.xlabel('Valores de Alpha')\r\n",
    "plt.xscale('log')\r\n",
    "plt.grid(True)\r\n",
    "plt.show()"
   ],
   "outputs": [
    {
     "output_type": "display_data",
     "data": {
      "text/plain": [
       "<Figure size 432x288 with 1 Axes>"
      ],
      "image/png": "[encoded data removed]"
     },
     "metadata": {
      "needs_background": "light"
     }
    }
   ],
   "metadata": {}
  },
  {
   "cell_type": "markdown",
   "source": [
    "### Item b)\r\n"
   ],
   "metadata": {}
  },
  {
   "cell_type": "code",
   "execution_count": 385,
   "source": [
    "valores_alpha = np.logspace(-4, 0, 5)\r\n",
    "scr_list = []\r\n",
    "\r\n",
    "for i in valores_alpha:\r\n",
    "    ridge = Ridge(alpha=i, normalize=False)\r\n",
    "    ridge.fit(X_train, y_train)\r\n",
    "    ridge_pred = ridge.predict(X_test)\r\n",
    "    scr = ridge.score(X_test, y_test)\r\n",
    "\r\n",
    "    scr_list.append(scr)\r\n",
    "    result = {'Alpha': i, 'Normalize': False, 'R² Score': scr}\r\n",
    "    result_list.append(result)"
   ],
   "outputs": [],
   "metadata": {}
  },
  {
   "cell_type": "code",
   "execution_count": 386,
   "source": [
    "plt.plot(valores_alpha, scr_list)\r\n",
    "plt.title('Grafico de amostra não normalizado')\r\n",
    "plt.ylabel(' Socores R²')\r\n",
    "plt.xlabel('Valores de Alpha')\r\n",
    "plt.grid(True)\r\n",
    "plt.xscale('log')\r\n",
    "plt.show()"
   ],
   "outputs": [
    {
     "output_type": "display_data",
     "data": {
      "text/plain": [
       "<Figure size 432x288 with 1 Axes>"
      ],
      "image/png": "[encoded data removed]"
     },
     "metadata": {
      "needs_background": "light"
     }
    }
   ],
   "metadata": {}
  },
  {
   "cell_type": "markdown",
   "source": [
    "### Item c)"
   ],
   "metadata": {}
  },
  {
   "cell_type": "code",
   "execution_count": 387,
   "source": [
    "df_result = pd.DataFrame(result_list)\r\n",
    "df_result = df_result.sort_values('R² Score', ascending = False)\r\n",
    "df_result"
   ],
   "outputs": [
    {
     "output_type": "execute_result",
     "data": {
      "text/plain": [
       "    Alpha  Normalize  R² Score\n",
       "5  0.0001      False  0.711225\n",
       "6  0.0010      False  0.711217\n",
       "0  0.0001       True  0.711211\n",
       "7  0.0100      False  0.711135\n",
       "1  0.0010       True  0.711078\n",
       "8  0.1000      False  0.710318\n",
       "2  0.0100       True  0.709759\n",
       "9  1.0000      False  0.704159\n",
       "3  0.1000       True  0.699694\n",
       "4  1.0000       True  0.624106"
      ],
      "text/html": [
       "<div>\n",
       "<style scoped>\n",
       "    .dataframe tbody tr th:only-of-type {\n",
       "        vertical-align: middle;\n",
       "    }\n",
       "\n",
       "    .dataframe tbody tr th {\n",
       "        vertical-align: top;\n",
       "    }\n",
       "\n",
       "    .dataframe thead th {\n",
       "        text-align: right;\n",
       "    }\n",
       "</style>\n",
       "<table border=\"1\" class=\"dataframe\">\n",
       "  <thead>\n",
       "    <tr style=\"text-align: right;\">\n",
       "      <th></th>\n",
       "      <th>Alpha</th>\n",
       "      <th>Normalize</th>\n",
       "      <th>R² Score</th>\n",
       "    </tr>\n",
       "  </thead>\n",
       "  <tbody>\n",
       "    <tr>\n",
       "      <th>5</th>\n",
       "      <td>0.0001</td>\n",
       "      <td>False</td>\n",
       "      <td>0.711225</td>\n",
       "    </tr>\n",
       "    <tr>\n",
       "      <th>6</th>\n",
       "      <td>0.0010</td>\n",
       "      <td>False</td>\n",
       "      <td>0.711217</td>\n",
       "    </tr>\n",
       "    <tr>\n",
       "      <th>0</th>\n",
       "      <td>0.0001</td>\n",
       "      <td>True</td>\n",
       "      <td>0.711211</td>\n",
       "    </tr>\n",
       "    <tr>\n",
       "      <th>7</th>\n",
       "      <td>0.0100</td>\n",
       "      <td>False</td>\n",
       "      <td>0.711135</td>\n",
       "    </tr>\n",
       "    <tr>\n",
       "      <th>1</th>\n",
       "      <td>0.0010</td>\n",
       "      <td>True</td>\n",
       "      <td>0.711078</td>\n",
       "    </tr>\n",
       "    <tr>\n",
       "      <th>8</th>\n",
       "      <td>0.1000</td>\n",
       "      <td>False</td>\n",
       "      <td>0.710318</td>\n",
       "    </tr>\n",
       "    <tr>\n",
       "      <th>2</th>\n",
       "      <td>0.0100</td>\n",
       "      <td>True</td>\n",
       "      <td>0.709759</td>\n",
       "    </tr>\n",
       "    <tr>\n",
       "      <th>9</th>\n",
       "      <td>1.0000</td>\n",
       "      <td>False</td>\n",
       "      <td>0.704159</td>\n",
       "    </tr>\n",
       "    <tr>\n",
       "      <th>3</th>\n",
       "      <td>0.1000</td>\n",
       "      <td>True</td>\n",
       "      <td>0.699694</td>\n",
       "    </tr>\n",
       "    <tr>\n",
       "      <th>4</th>\n",
       "      <td>1.0000</td>\n",
       "      <td>True</td>\n",
       "      <td>0.624106</td>\n",
       "    </tr>\n",
       "  </tbody>\n",
       "</table>\n",
       "</div>"
      ]
     },
     "metadata": {},
     "execution_count": 387
    }
   ],
   "metadata": {}
  },
  {
   "cell_type": "code",
   "execution_count": 388,
   "source": [
    "ridge = Ridge(alpha=df_result.loc[df_result.index[0],'Alpha'], normalize=df_result.loc[df_result.index[0],'Normalize'], max_iter=10)\r\n",
    "ridge.fit(X_train, y_train)\r\n",
    "ridge_pred = ridge.predict(X_test)\r\n",
    "scr = ridge.score(X_test, y_test)\r\n",
    "\r\n",
    "print('R² Score:',scr)\r\n"
   ],
   "outputs": [
    {
     "output_type": "stream",
     "name": "stdout",
     "text": [
      "R² Score: 0.7112250981524475\n"
     ]
    }
   ],
   "metadata": {}
  },
  {
   "cell_type": "markdown",
   "source": [
    "## Questão 03"
   ],
   "metadata": {}
  },
  {
   "cell_type": "markdown",
   "source": [
    "### Importando dataframe"
   ],
   "metadata": {}
  },
  {
   "cell_type": "code",
   "execution_count": 389,
   "source": [
    "df = pd.read_csv(\"diabetes.csv\",delimiter=',')\r\n",
    "df.sample(10)"
   ],
   "outputs": [
    {
     "output_type": "execute_result",
     "data": {
      "text/plain": [
       "     Pregnancies  Glucose  BloodPressure  SkinThickness  Insulin   BMI  \\\n",
       "140            3      128             78              0        0  21.1   \n",
       "642            6      147             80              0        0  29.5   \n",
       "215           12      151             70             40      271  41.8   \n",
       "744           13      153             88             37      140  40.6   \n",
       "337            5      115             76              0        0  31.2   \n",
       "599            1      109             38             18      120  23.1   \n",
       "367            0      101             64             17        0  21.0   \n",
       "347            3      116              0              0        0  23.5   \n",
       "182            1        0             74             20       23  27.7   \n",
       "528            0      117             66             31      188  30.8   \n",
       "\n",
       "     DiabetesPedigreeFunction  Age  Outcome  \n",
       "140                     0.268   55        0  \n",
       "642                     0.178   50        1  \n",
       "215                     0.742   38        1  \n",
       "744                     1.174   39        0  \n",
       "337                     0.343   44        1  \n",
       "599                     0.407   26        0  \n",
       "367                     0.252   21        0  \n",
       "347                     0.187   23        0  \n",
       "182                     0.299   21        0  \n",
       "528                     0.493   22        0  "
      ],
      "text/html": [
       "<div>\n",
       "<style scoped>\n",
       "    .dataframe tbody tr th:only-of-type {\n",
       "        vertical-align: middle;\n",
       "    }\n",
       "\n",
       "    .dataframe tbody tr th {\n",
       "        vertical-align: top;\n",
       "    }\n",
       "\n",
       "    .dataframe thead th {\n",
       "        text-align: right;\n",
       "    }\n",
       "</style>\n",
       "<table border=\"1\" class=\"dataframe\">\n",
       "  <thead>\n",
       "    <tr style=\"text-align: right;\">\n",
       "      <th></th>\n",
       "      <th>Pregnancies</th>\n",
       "      <th>Glucose</th>\n",
       "      <th>BloodPressure</th>\n",
       "      <th>SkinThickness</th>\n",
       "      <th>Insulin</th>\n",
       "      <th>BMI</th>\n",
       "      <th>DiabetesPedigreeFunction</th>\n",
       "      <th>Age</th>\n",
       "      <th>Outcome</th>\n",
       "    </tr>\n",
       "  </thead>\n",
       "  <tbody>\n",
       "    <tr>\n",
       "      <th>140</th>\n",
       "      <td>3</td>\n",
       "      <td>128</td>\n",
       "      <td>78</td>\n",
       "      <td>0</td>\n",
       "      <td>0</td>\n",
       "      <td>21.1</td>\n",
       "      <td>0.268</td>\n",
       "      <td>55</td>\n",
       "      <td>0</td>\n",
       "    </tr>\n",
       "    <tr>\n",
       "      <th>642</th>\n",
       "      <td>6</td>\n",
       "      <td>147</td>\n",
       "      <td>80</td>\n",
       "      <td>0</td>\n",
       "      <td>0</td>\n",
       "      <td>29.5</td>\n",
       "      <td>0.178</td>\n",
       "      <td>50</td>\n",
       "      <td>1</td>\n",
       "    </tr>\n",
       "    <tr>\n",
       "      <th>215</th>\n",
       "      <td>12</td>\n",
       "      <td>151</td>\n",
       "      <td>70</td>\n",
       "      <td>40</td>\n",
       "      <td>271</td>\n",
       "      <td>41.8</td>\n",
       "      <td>0.742</td>\n",
       "      <td>38</td>\n",
       "      <td>1</td>\n",
       "    </tr>\n",
       "    <tr>\n",
       "      <th>744</th>\n",
       "      <td>13</td>\n",
       "      <td>153</td>\n",
       "      <td>88</td>\n",
       "      <td>37</td>\n",
       "      <td>140</td>\n",
       "      <td>40.6</td>\n",
       "      <td>1.174</td>\n",
       "      <td>39</td>\n",
       "      <td>0</td>\n",
       "    </tr>\n",
       "    <tr>\n",
       "      <th>337</th>\n",
       "      <td>5</td>\n",
       "      <td>115</td>\n",
       "      <td>76</td>\n",
       "      <td>0</td>\n",
       "      <td>0</td>\n",
       "      <td>31.2</td>\n",
       "      <td>0.343</td>\n",
       "      <td>44</td>\n",
       "      <td>1</td>\n",
       "    </tr>\n",
       "    <tr>\n",
       "      <th>599</th>\n",
       "      <td>1</td>\n",
       "      <td>109</td>\n",
       "      <td>38</td>\n",
       "      <td>18</td>\n",
       "      <td>120</td>\n",
       "      <td>23.1</td>\n",
       "      <td>0.407</td>\n",
       "      <td>26</td>\n",
       "      <td>0</td>\n",
       "    </tr>\n",
       "    <tr>\n",
       "      <th>367</th>\n",
       "      <td>0</td>\n",
       "      <td>101</td>\n",
       "      <td>64</td>\n",
       "      <td>17</td>\n",
       "      <td>0</td>\n",
       "      <td>21.0</td>\n",
       "      <td>0.252</td>\n",
       "      <td>21</td>\n",
       "      <td>0</td>\n",
       "    </tr>\n",
       "    <tr>\n",
       "      <th>347</th>\n",
       "      <td>3</td>\n",
       "      <td>116</td>\n",
       "      <td>0</td>\n",
       "      <td>0</td>\n",
       "      <td>0</td>\n",
       "      <td>23.5</td>\n",
       "      <td>0.187</td>\n",
       "      <td>23</td>\n",
       "      <td>0</td>\n",
       "    </tr>\n",
       "    <tr>\n",
       "      <th>182</th>\n",
       "      <td>1</td>\n",
       "      <td>0</td>\n",
       "      <td>74</td>\n",
       "      <td>20</td>\n",
       "      <td>23</td>\n",
       "      <td>27.7</td>\n",
       "      <td>0.299</td>\n",
       "      <td>21</td>\n",
       "      <td>0</td>\n",
       "    </tr>\n",
       "    <tr>\n",
       "      <th>528</th>\n",
       "      <td>0</td>\n",
       "      <td>117</td>\n",
       "      <td>66</td>\n",
       "      <td>31</td>\n",
       "      <td>188</td>\n",
       "      <td>30.8</td>\n",
       "      <td>0.493</td>\n",
       "      <td>22</td>\n",
       "      <td>0</td>\n",
       "    </tr>\n",
       "  </tbody>\n",
       "</table>\n",
       "</div>"
      ]
     },
     "metadata": {},
     "execution_count": 389
    }
   ],
   "metadata": {}
  },
  {
   "cell_type": "code",
   "execution_count": 390,
   "source": [
    "X_train, X_test, y_train, y_test = train_test_split(df.drop('Outcome',axis=1), df['Outcome'], test_size=0.2, random_state= 42, stratify=df['Outcome'])"
   ],
   "outputs": [],
   "metadata": {}
  },
  {
   "cell_type": "code",
   "execution_count": 391,
   "source": [
    "none_logreg = LogisticRegression(penalty='none')\r\n",
    "l1_logreg = LogisticRegression(penalty = 'l1', solver='liblinear')\r\n",
    "l2_logreg = LogisticRegression(penalty = 'l2')\r\n",
    "elasticnet_logreg = LogisticRegression(penalty = 'elasticnet', solver='saga', l1_ratio = 0.1)"
   ],
   "outputs": [],
   "metadata": {}
  },
  {
   "cell_type": "code",
   "execution_count": 392,
   "source": [
    "none_logreg.fit(X_train,y_train)\r\n",
    "l1_logreg.fit(X_train,y_train)\r\n",
    "l2_logreg.fit(X_train,y_train)\r\n",
    "elasticnet_logreg.fit(X_train,y_train)\r\n",
    "\r\n",
    "y_pred_none = none_logreg.predict(X_test)\r\n",
    "y_pred_l1 = none_logreg.predict(X_test)\r\n",
    "y_pred_l2 = none_logreg.predict(X_test)\r\n",
    "y_pred_elasticnet = none_logreg.predict(X_test)"
   ],
   "outputs": [],
   "metadata": {}
  },
  {
   "cell_type": "markdown",
   "source": [
    "### Item 1)"
   ],
   "metadata": {}
  },
  {
   "cell_type": "code",
   "execution_count": 393,
   "source": [
    "print(\"Coeficientes L1: \",*l1_logreg.coef_ ,sep = \"\\n\")"
   ],
   "outputs": [
    {
     "output_type": "stream",
     "name": "stdout",
     "text": [
      "Coeficientes L1: \n",
      "[ 0.11045686  0.03505435 -0.01206605  0.00422554 -0.00105456  0.08459662\n",
      "  0.63073806  0.01381764]\n"
     ]
    }
   ],
   "metadata": {}
  },
  {
   "cell_type": "markdown",
   "source": [
    "Nenhuma feature foi descartada usando o L1"
   ],
   "metadata": {}
  },
  {
   "cell_type": "markdown",
   "source": [
    "### Item 2)"
   ],
   "metadata": {}
  },
  {
   "cell_type": "code",
   "execution_count": 394,
   "source": [
    "print(\"Coeficientes L2: \",*l2_logreg.coef_ ,sep = \"\\n\")\r\n",
    "print(\"Coeficientes None: \",*none_logreg.coef_ ,sep = \"\\n\")\r\n",
    "\r\n",
    "plt.figure(figsize = (14, 5))\r\n",
    "\r\n",
    "barWidth = 0.5\r\n",
    "\r\n",
    "p1 = np.arange(len(none_logreg.coef_[0]))\r\n",
    "p2 = [p + barWidth for p in p1]\r\n",
    "\r\n",
    "\r\n",
    "plt.bar(p1, none_logreg.coef_[0], color='green', width=barWidth, label='None')\r\n",
    "plt.bar(p2, l2_logreg.coef_[0], color='pink', width=barWidth, label='L2')\r\n",
    "plt.legend()\r\n",
    "plt.xlabel('Features')\r\n",
    "plt.ylabel('Coeficientes')\r\n",
    "plt.title('Comparação da L2 com None')\r\n",
    "plt.xticks((p1+p2)/2, df.columns[:-1])\r\n",
    "plt.show()\r\n"
   ],
   "outputs": [
    {
     "output_type": "stream",
     "name": "stdout",
     "text": [
      "Coeficientes L2: \n",
      "[ 0.1166826   0.03753065 -0.01051682  0.00471297 -0.00134088  0.09037643\n",
      "  0.85556088  0.01426081]\n",
      "Coeficientes None: \n",
      "[ 0.11725554  0.03684592 -0.01115495  0.00479288 -0.00129745  0.09197824\n",
      "  0.81372774  0.01545635]\n"
     ]
    },
    {
     "output_type": "display_data",
     "data": {
      "text/plain": [
       "<Figure size 1008x360 with 1 Axes>"
      ],
      "image/png": "[encoded data removed]"
     },
     "metadata": {
      "needs_background": "light"
     }
    }
   ],
   "metadata": {}
  },
  {
   "cell_type": "markdown",
   "source": [
    "### Item 3)"
   ],
   "metadata": {}
  },
  {
   "cell_type": "code",
   "execution_count": 396,
   "source": [
    "valores_alpha = np.logspace(-8, 8, 10)\r\n",
    "print(valores_alpha)\r\n",
    "result_list = []\r\n",
    "\r\n",
    "none_list = []\r\n",
    "l1_list = []\r\n",
    "l2_list = []\r\n",
    "elasticnet_list = []\r\n",
    "\r\n",
    "for i in valores_alpha:\r\n",
    "    none_logreg = LogisticRegression(C=1/i, penalty='none')\r\n",
    "    l1_logreg = LogisticRegression(C=1/i, penalty = 'l1', solver='liblinear')\r\n",
    "    l2_logreg = LogisticRegression(C= 1/i, penalty = 'l2')\r\n",
    "    elasticnet_logreg = LogisticRegression(C= 1/i, penalty = 'elasticnet', solver='saga', l1_ratio = 0.1)\r\n",
    "\r\n",
    "    none_logreg.fit(X_train,y_train)\r\n",
    "    l1_logreg.fit(X_train,y_train)\r\n",
    "    l2_logreg.fit(X_train,y_train)\r\n",
    "    elasticnet_logreg.fit(X_train,y_train)\r\n",
    "\r\n",
    "    y_pred_none = none_logreg.predict(X_test)\r\n",
    "    y_pred_l1 = none_logreg.predict(X_test)\r\n",
    "    y_pred_l2 = none_logreg.predict(X_test)\r\n",
    "    y_pred_elasticnet = none_logreg.predict(X_test)\r\n",
    "\r\n",
    "    acr_none = metrics.accuracy_score(y_test, y_pred_none)\r\n",
    "    acr_l1 = metrics.accuracy_score(y_test, y_pred_l1)\r\n",
    "    acr_l2 = metrics.accuracy_score(y_test ,y_pred_l2)\r\n",
    "    acr_elasticnet = metrics.accuracy_score(y_test, y_pred_elasticnet)\r\n",
    "\r\n",
    "\r\n",
    "    result = {'Regularização': 'none' , 'Alpha': i, 'Accuracy': acr_none}\r\n",
    "    result_list.append(result)\r\n",
    "\r\n",
    "    result = {'Regularização': 'L1' , 'Alpha': i, 'Accuracy': acr_l1}\r\n",
    "    result_list.append(result)\r\n",
    "\r\n",
    "    result = {'Regularização': 'L2' , 'Alpha': i, 'Accuracy': acr_l2}\r\n",
    "    result_list.append(result)\r\n",
    "\r\n",
    "    result = {'Regularização': 'Elasticnet' , 'Alpha': i, 'Accuracy': acr_elasticnet}\r\n",
    "    result_list.append(result)\r\n",
    "\r\n",
    "\r\n",
    "    \r\n",
    "df_result = pd.DataFrame(result_list)\r\n",
    "df_result.sort_values('Regularização')"
   ],
   "outputs": [
    {
     "output_type": "stream",
     "name": "stdout",
     "text": [
      "[1.00000000e-08 5.99484250e-07 3.59381366e-05 2.15443469e-03\n",
      " 1.29154967e-01 7.74263683e+00 4.64158883e+02 2.78255940e+04\n",
      " 1.66810054e+06 1.00000000e+08]\n"
     ]
    },
    {
     "output_type": "execute_result",
     "data": {
      "text/plain": [
       "  Regularização                                              Alpha  \\\n",
       "3    Elasticnet  [1e-08, 5.994842503189409e-07, 3.5938136638046...   \n",
       "1            L1  [1e-08, 5.994842503189409e-07, 3.5938136638046...   \n",
       "2            L2  [1e-08, 5.994842503189409e-07, 3.5938136638046...   \n",
       "0          none  [1e-08, 5.994842503189409e-07, 3.5938136638046...   \n",
       "\n",
       "                                            Accuracy  \n",
       "3  [0.7142857142857143, 0.7142857142857143, 0.714...  \n",
       "1  [0.7142857142857143, 0.7142857142857143, 0.714...  \n",
       "2  [0.7142857142857143, 0.7142857142857143, 0.714...  \n",
       "0  [0.7142857142857143, 0.7142857142857143, 0.714...  "
      ],
      "text/html": [
       "<div>\n",
       "<style scoped>\n",
       "    .dataframe tbody tr th:only-of-type {\n",
       "        vertical-align: middle;\n",
       "    }\n",
       "\n",
       "    .dataframe tbody tr th {\n",
       "        vertical-align: top;\n",
       "    }\n",
       "\n",
       "    .dataframe thead th {\n",
       "        text-align: right;\n",
       "    }\n",
       "</style>\n",
       "<table border=\"1\" class=\"dataframe\">\n",
       "  <thead>\n",
       "    <tr style=\"text-align: right;\">\n",
       "      <th></th>\n",
       "      <th>Regularização</th>\n",
       "      <th>Alpha</th>\n",
       "      <th>Accuracy</th>\n",
       "    </tr>\n",
       "  </thead>\n",
       "  <tbody>\n",
       "    <tr>\n",
       "      <th>3</th>\n",
       "      <td>Elasticnet</td>\n",
       "      <td>[1e-08, 5.994842503189409e-07, 3.5938136638046...</td>\n",
       "      <td>[0.7142857142857143, 0.7142857142857143, 0.714...</td>\n",
       "    </tr>\n",
       "    <tr>\n",
       "      <th>1</th>\n",
       "      <td>L1</td>\n",
       "      <td>[1e-08, 5.994842503189409e-07, 3.5938136638046...</td>\n",
       "      <td>[0.7142857142857143, 0.7142857142857143, 0.714...</td>\n",
       "    </tr>\n",
       "    <tr>\n",
       "      <th>2</th>\n",
       "      <td>L2</td>\n",
       "      <td>[1e-08, 5.994842503189409e-07, 3.5938136638046...</td>\n",
       "      <td>[0.7142857142857143, 0.7142857142857143, 0.714...</td>\n",
       "    </tr>\n",
       "    <tr>\n",
       "      <th>0</th>\n",
       "      <td>none</td>\n",
       "      <td>[1e-08, 5.994842503189409e-07, 3.5938136638046...</td>\n",
       "      <td>[0.7142857142857143, 0.7142857142857143, 0.714...</td>\n",
       "    </tr>\n",
       "  </tbody>\n",
       "</table>\n",
       "</div>"
      ]
     },
     "metadata": {},
     "execution_count": 396
    }
   ],
   "metadata": {}
  }
 ],
 "metadata": {
  "orig_nbformat": 4,
  "language_info": {
   "name": "python",
   "version": "3.8.10",
   "mimetype": "text/x-python",
   "codemirror_mode": {
    "name": "ipython",
    "version": 3
   },
   "pygments_lexer": "ipython3",
   "nbconvert_exporter": "python",
   "file_extension": ".py"
  },
  "kernelspec": {
   "name": "python3",
   "display_name": "Python 3.8.10 64-bit ('MachineLearn': conda)"
  },
  "interpreter": {
   "hash": "62b88de6ee60551e82c84a8de79b5250f08b1ed0dbc54dc390bb75151b660ebe"
  }
 },
 "nbformat": 4,
 "nbformat_minor": 2
}