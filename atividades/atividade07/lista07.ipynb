{
 "cells": [
  {
   "cell_type": "markdown",
   "source": [
    "# Lista 07\r\n",
    "\r\n",
    "## Nome: Jorge Lucas Colares Martins\r\n",
    "## Matricula: 402119"
   ],
   "metadata": {}
  },
  {
   "cell_type": "markdown",
   "source": [
    "## Importando bibliotecas"
   ],
   "metadata": {}
  },
  {
   "cell_type": "code",
   "execution_count": 226,
   "source": [
    "import pandas as pd\r\n",
    "import numpy as np\r\n",
    "import sklearn\r\n",
    "from sklearn.model_selection import train_test_split\r\n",
    "from sklearn.neighbors import KNeighborsRegressor\r\n",
    "from sklearn.neighbors import KNeighborsClassifier\r\n",
    "from sklearn import metrics\r\n",
    "from sklearn.pipeline import Pipeline\r\n",
    "from sklearn.preprocessing import StandardScaler\r\n",
    "from sklearn.model_selection import train_test_split, cross_val_score\r\n",
    "from sklearn import model_selection\r\n",
    "\r\n",
    "from sklearn import pipeline"
   ],
   "outputs": [],
   "metadata": {}
  },
  {
   "cell_type": "markdown",
   "source": [
    "## Importando Dataframe"
   ],
   "metadata": {}
  },
  {
   "cell_type": "code",
   "execution_count": 185,
   "source": [
    "df = pd.read_csv(\"diabetes.csv\",delimiter=',')\r\n",
    "df"
   ],
   "outputs": [
    {
     "output_type": "execute_result",
     "data": {
      "text/plain": [
       "     Pregnancies  Glucose  BloodPressure  SkinThickness  Insulin   BMI  \\\n",
       "0              6      148             72             35        0  33.6   \n",
       "1              1       85             66             29        0  26.6   \n",
       "2              8      183             64              0        0  23.3   \n",
       "3              1       89             66             23       94  28.1   \n",
       "4              0      137             40             35      168  43.1   \n",
       "..           ...      ...            ...            ...      ...   ...   \n",
       "763           10      101             76             48      180  32.9   \n",
       "764            2      122             70             27        0  36.8   \n",
       "765            5      121             72             23      112  26.2   \n",
       "766            1      126             60              0        0  30.1   \n",
       "767            1       93             70             31        0  30.4   \n",
       "\n",
       "     DiabetesPedigreeFunction  Age  Outcome  \n",
       "0                       0.627   50        1  \n",
       "1                       0.351   31        0  \n",
       "2                       0.672   32        1  \n",
       "3                       0.167   21        0  \n",
       "4                       2.288   33        1  \n",
       "..                        ...  ...      ...  \n",
       "763                     0.171   63        0  \n",
       "764                     0.340   27        0  \n",
       "765                     0.245   30        0  \n",
       "766                     0.349   47        1  \n",
       "767                     0.315   23        0  \n",
       "\n",
       "[768 rows x 9 columns]"
      ],
      "text/html": [
       "<div>\n",
       "<style scoped>\n",
       "    .dataframe tbody tr th:only-of-type {\n",
       "        vertical-align: middle;\n",
       "    }\n",
       "\n",
       "    .dataframe tbody tr th {\n",
       "        vertical-align: top;\n",
       "    }\n",
       "\n",
       "    .dataframe thead th {\n",
       "        text-align: right;\n",
       "    }\n",
       "</style>\n",
       "<table border=\"1\" class=\"dataframe\">\n",
       "  <thead>\n",
       "    <tr style=\"text-align: right;\">\n",
       "      <th></th>\n",
       "      <th>Pregnancies</th>\n",
       "      <th>Glucose</th>\n",
       "      <th>BloodPressure</th>\n",
       "      <th>SkinThickness</th>\n",
       "      <th>Insulin</th>\n",
       "      <th>BMI</th>\n",
       "      <th>DiabetesPedigreeFunction</th>\n",
       "      <th>Age</th>\n",
       "      <th>Outcome</th>\n",
       "    </tr>\n",
       "  </thead>\n",
       "  <tbody>\n",
       "    <tr>\n",
       "      <th>0</th>\n",
       "      <td>6</td>\n",
       "      <td>148</td>\n",
       "      <td>72</td>\n",
       "      <td>35</td>\n",
       "      <td>0</td>\n",
       "      <td>33.6</td>\n",
       "      <td>0.627</td>\n",
       "      <td>50</td>\n",
       "      <td>1</td>\n",
       "    </tr>\n",
       "    <tr>\n",
       "      <th>1</th>\n",
       "      <td>1</td>\n",
       "      <td>85</td>\n",
       "      <td>66</td>\n",
       "      <td>29</td>\n",
       "      <td>0</td>\n",
       "      <td>26.6</td>\n",
       "      <td>0.351</td>\n",
       "      <td>31</td>\n",
       "      <td>0</td>\n",
       "    </tr>\n",
       "    <tr>\n",
       "      <th>2</th>\n",
       "      <td>8</td>\n",
       "      <td>183</td>\n",
       "      <td>64</td>\n",
       "      <td>0</td>\n",
       "      <td>0</td>\n",
       "      <td>23.3</td>\n",
       "      <td>0.672</td>\n",
       "      <td>32</td>\n",
       "      <td>1</td>\n",
       "    </tr>\n",
       "    <tr>\n",
       "      <th>3</th>\n",
       "      <td>1</td>\n",
       "      <td>89</td>\n",
       "      <td>66</td>\n",
       "      <td>23</td>\n",
       "      <td>94</td>\n",
       "      <td>28.1</td>\n",
       "      <td>0.167</td>\n",
       "      <td>21</td>\n",
       "      <td>0</td>\n",
       "    </tr>\n",
       "    <tr>\n",
       "      <th>4</th>\n",
       "      <td>0</td>\n",
       "      <td>137</td>\n",
       "      <td>40</td>\n",
       "      <td>35</td>\n",
       "      <td>168</td>\n",
       "      <td>43.1</td>\n",
       "      <td>2.288</td>\n",
       "      <td>33</td>\n",
       "      <td>1</td>\n",
       "    </tr>\n",
       "    <tr>\n",
       "      <th>...</th>\n",
       "      <td>...</td>\n",
       "      <td>...</td>\n",
       "      <td>...</td>\n",
       "      <td>...</td>\n",
       "      <td>...</td>\n",
       "      <td>...</td>\n",
       "      <td>...</td>\n",
       "      <td>...</td>\n",
       "      <td>...</td>\n",
       "    </tr>\n",
       "    <tr>\n",
       "      <th>763</th>\n",
       "      <td>10</td>\n",
       "      <td>101</td>\n",
       "      <td>76</td>\n",
       "      <td>48</td>\n",
       "      <td>180</td>\n",
       "      <td>32.9</td>\n",
       "      <td>0.171</td>\n",
       "      <td>63</td>\n",
       "      <td>0</td>\n",
       "    </tr>\n",
       "    <tr>\n",
       "      <th>764</th>\n",
       "      <td>2</td>\n",
       "      <td>122</td>\n",
       "      <td>70</td>\n",
       "      <td>27</td>\n",
       "      <td>0</td>\n",
       "      <td>36.8</td>\n",
       "      <td>0.340</td>\n",
       "      <td>27</td>\n",
       "      <td>0</td>\n",
       "    </tr>\n",
       "    <tr>\n",
       "      <th>765</th>\n",
       "      <td>5</td>\n",
       "      <td>121</td>\n",
       "      <td>72</td>\n",
       "      <td>23</td>\n",
       "      <td>112</td>\n",
       "      <td>26.2</td>\n",
       "      <td>0.245</td>\n",
       "      <td>30</td>\n",
       "      <td>0</td>\n",
       "    </tr>\n",
       "    <tr>\n",
       "      <th>766</th>\n",
       "      <td>1</td>\n",
       "      <td>126</td>\n",
       "      <td>60</td>\n",
       "      <td>0</td>\n",
       "      <td>0</td>\n",
       "      <td>30.1</td>\n",
       "      <td>0.349</td>\n",
       "      <td>47</td>\n",
       "      <td>1</td>\n",
       "    </tr>\n",
       "    <tr>\n",
       "      <th>767</th>\n",
       "      <td>1</td>\n",
       "      <td>93</td>\n",
       "      <td>70</td>\n",
       "      <td>31</td>\n",
       "      <td>0</td>\n",
       "      <td>30.4</td>\n",
       "      <td>0.315</td>\n",
       "      <td>23</td>\n",
       "      <td>0</td>\n",
       "    </tr>\n",
       "  </tbody>\n",
       "</table>\n",
       "<p>768 rows × 9 columns</p>\n",
       "</div>"
      ]
     },
     "metadata": {},
     "execution_count": 185
    }
   ],
   "metadata": {}
  },
  {
   "cell_type": "markdown",
   "source": [
    "## Divindo em treino e teste"
   ],
   "metadata": {}
  },
  {
   "cell_type": "code",
   "execution_count": 186,
   "source": [
    "X_train, X_test, y_train, y_test = train_test_split(df.drop('Outcome',axis=1), df['Outcome'], test_size=0.2, random_state= 42, stratify=df['Outcome'])"
   ],
   "outputs": [],
   "metadata": {}
  },
  {
   "cell_type": "markdown",
   "source": [
    "## Divindo em train_holdout e val_holdout"
   ],
   "metadata": {}
  },
  {
   "cell_type": "code",
   "execution_count": 187,
   "source": [
    "X_train_holdout, X_val_holdout, y_train_holdout, y_val_holdout = train_test_split(X_train, y_train, test_size=0.3, random_state= 42, stratify=y_train)"
   ],
   "outputs": [],
   "metadata": {}
  },
  {
   "cell_type": "markdown",
   "source": [
    "## Criando range de K (do KNN)"
   ],
   "metadata": {}
  },
  {
   "cell_type": "code",
   "execution_count": 188,
   "source": [
    "k_range = np.arange(1,101)\r\n",
    "print(k_range)"
   ],
   "outputs": [
    {
     "output_type": "stream",
     "name": "stdout",
     "text": [
      "[  1   2   3   4   5   6   7   8   9  10  11  12  13  14  15  16  17  18\n",
      "  19  20  21  22  23  24  25  26  27  28  29  30  31  32  33  34  35  36\n",
      "  37  38  39  40  41  42  43  44  45  46  47  48  49  50  51  52  53  54\n",
      "  55  56  57  58  59  60  61  62  63  64  65  66  67  68  69  70  71  72\n",
      "  73  74  75  76  77  78  79  80  81  82  83  84  85  86  87  88  89  90\n",
      "  91  92  93  94  95  96  97  98  99 100]\n"
     ]
    }
   ],
   "metadata": {}
  },
  {
   "cell_type": "markdown",
   "source": [
    "## Questão 01"
   ],
   "metadata": {}
  },
  {
   "cell_type": "markdown",
   "source": [
    "### Criando lista para armazenar os treinos de cada K (KNN) e Treinando"
   ],
   "metadata": {}
  },
  {
   "cell_type": "code",
   "execution_count": 189,
   "source": [
    "holdout_train_list = []\r\n",
    "\r\n",
    "for i in k_range:\r\n",
    "    knn = KNeighborsClassifier(n_neighbors=i)\r\n",
    "    knn.fit(X_train_holdout, y_train_holdout)\r\n",
    "    holdout_train_list.append(knn)\r\n"
   ],
   "outputs": [],
   "metadata": {}
  },
  {
   "cell_type": "markdown",
   "source": [
    "### Validando e guardando resultados"
   ],
   "metadata": {}
  },
  {
   "cell_type": "code",
   "execution_count": 190,
   "source": [
    "holdout_val_list = []\r\n",
    "j=0\r\n",
    "for i in holdout_train_list:\r\n",
    "    y_pred_val = i.predict(X_val_holdout)\r\n",
    "    holdout_val_list.append([metrics.f1_score(y_val_holdout, y_pred_val, average='weighted', zero_division=0), k_range[j]])\r\n",
    "    j= j+1\r\n",
    "\r\n",
    "holdout_val_list.sort(reverse=True)"
   ],
   "outputs": [],
   "metadata": {}
  },
  {
   "cell_type": "code",
   "execution_count": 191,
   "source": [
    "print(*holdout_val_list, sep = \"\\n\")"
   ],
   "outputs": [
    {
     "output_type": "stream",
     "name": "stdout",
     "text": [
      "[0.8098258905806076, 51]\n",
      "[0.8098258905806076, 49]\n",
      "[0.8083248078448253, 50]\n",
      "[0.8067310418372291, 63]\n",
      "[0.8000160160160161, 52]\n",
      "[0.795017771645546, 61]\n",
      "[0.7948146619902345, 47]\n",
      "[0.7933197348291688, 42]\n",
      "[0.7932239518955386, 56]\n",
      "[0.7900434235816151, 48]\n",
      "[0.7898485008260396, 39]\n",
      "[0.7883586226502256, 43]\n",
      "[0.7882522522522524, 54]\n",
      "[0.7867744833782571, 57]\n",
      "[0.7863518380325104, 62]\n",
      "[0.7863518380325104, 60]\n",
      "[0.7850914512199558, 53]\n",
      "[0.784898884898885, 41]\n",
      "[0.7834154765452476, 45]\n",
      "[0.7834154765452476, 31]\n",
      "[0.7818374978752337, 34]\n",
      "[0.7818374978752337, 32]\n",
      "[0.7814081777181408, 67]\n",
      "[0.78016038016038, 55]\n",
      "[0.7769185481988864, 37]\n",
      "[0.7769185481988864, 36]\n",
      "[0.7769185481988864, 35]\n",
      "[0.7769185481988864, 33]\n",
      "[0.7769185481988864, 23]\n",
      "[0.7752487797770817, 44]\n",
      "[0.7752487797770817, 40]\n",
      "[0.7744824957009832, 65]\n",
      "[0.7734747729075208, 46]\n",
      "[0.7715912312621799, 58]\n",
      "[0.7703552609212987, 25]\n",
      "[0.7703552609212987, 21]\n",
      "[0.7695924035407429, 71]\n",
      "[0.7695924035407429, 69]\n",
      "[0.7685898738530318, 59]\n",
      "[0.7685898738530318, 38]\n",
      "[0.7674720375751304, 68]\n",
      "[0.7667149150906832, 75]\n",
      "[0.7654784737475474, 19]\n",
      "[0.7652233285917497, 64]\n",
      "[0.7647247247247247, 73]\n",
      "[0.7626131533694559, 72]\n",
      "[0.7622566622566622, 12]\n",
      "[0.7616941356071791, 15]\n",
      "[0.7603735121983296, 66]\n",
      "[0.7588730239673637, 27]\n",
      "[0.7580396396396397, 11]\n",
      "[0.7570193675456836, 30]\n",
      "[0.7570193675456836, 29]\n",
      "[0.7570193675456836, 28]\n",
      "[0.7570193675456836, 22]\n",
      "[0.7557698793383704, 14]\n",
      "[0.7555475266815472, 74]\n",
      "[0.7555475266815472, 70]\n",
      "[0.7540383992962082, 17]\n",
      "[0.7540383992962082, 16]\n",
      "[0.7519194174924195, 9]\n",
      "[0.7507438110379288, 83]\n",
      "[0.7502414162826512, 20]\n",
      "[0.7502414162826512, 18]\n",
      "[0.7502414162826512, 6]\n",
      "[0.749208543581945, 13]\n",
      "[0.7482448868752412, 7]\n",
      "[0.7459608551859475, 77]\n",
      "[0.7444103388424806, 8]\n",
      "[0.7436230157879642, 76]\n",
      "[0.7433864065997517, 26]\n",
      "[0.7413007692077459, 10]\n",
      "[0.741197197197197, 24]\n",
      "[0.7388744687064015, 79]\n",
      "[0.7380622566300316, 3]\n",
      "[0.7364108634181626, 85]\n",
      "[0.7337983682109491, 82]\n",
      "[0.7317221523542858, 4]\n",
      "[0.7316985048943813, 81]\n",
      "[0.729103840682788, 78]\n",
      "[0.724429539028079, 80]\n",
      "[0.7236401049960371, 5]\n",
      "[0.7216982940387198, 89]\n",
      "[0.7216982940387198, 87]\n",
      "[0.7216982940387198, 84]\n",
      "[0.7141904219346865, 86]\n",
      "[0.6999738616759894, 2]\n",
      "[0.6988517053033183, 88]\n",
      "[0.691012441012441, 91]\n",
      "[0.691012441012441, 90]\n",
      "[0.6830539924546082, 93]\n",
      "[0.6768191268191268, 1]\n",
      "[0.6749716834823218, 95]\n",
      "[0.6749716834823218, 92]\n",
      "[0.666760631717376, 97]\n",
      "[0.666760631717376, 96]\n",
      "[0.666760631717376, 94]\n",
      "[0.6584157364045998, 99]\n",
      "[0.6499316654115416, 100]\n",
      "[0.6499316654115416, 98]\n"
     ]
    }
   ],
   "metadata": {}
  },
  {
   "cell_type": "markdown",
   "source": [
    "### Usando melhor K para traino e teste normal"
   ],
   "metadata": {}
  },
  {
   "cell_type": "code",
   "execution_count": 192,
   "source": [
    "knn = KNeighborsClassifier(n_neighbors=holdout_val_list[0][1])\r\n",
    "knn.fit(X_train, y_train)"
   ],
   "outputs": [
    {
     "output_type": "execute_result",
     "data": {
      "text/plain": [
       "KNeighborsClassifier(n_neighbors=51)"
      ]
     },
     "metadata": {},
     "execution_count": 192
    }
   ],
   "metadata": {}
  },
  {
   "cell_type": "markdown",
   "source": [
    "### Exibindo resultado"
   ],
   "metadata": {}
  },
  {
   "cell_type": "code",
   "execution_count": 193,
   "source": [
    "y_pred = knn.predict(X_test)\r\n",
    "print(metrics.classification_report(y_test, y_pred, zero_division=0))"
   ],
   "outputs": [
    {
     "output_type": "stream",
     "name": "stdout",
     "text": [
      "              precision    recall  f1-score   support\n",
      "\n",
      "           0       0.72      0.81      0.76       100\n",
      "           1       0.55      0.43      0.48        54\n",
      "\n",
      "    accuracy                           0.68       154\n",
      "   macro avg       0.64      0.62      0.62       154\n",
      "weighted avg       0.66      0.68      0.66       154\n",
      "\n"
     ]
    }
   ],
   "metadata": {}
  },
  {
   "cell_type": "markdown",
   "source": [
    "### Usando escalonamento"
   ],
   "metadata": {}
  },
  {
   "cell_type": "code",
   "execution_count": 194,
   "source": [
    "pipe_holdout_list = []\r\n",
    "\r\n",
    "for i in k_range:\r\n",
    "    pipe_holdout = Pipeline(steps = [('scale',StandardScaler()),('KNN',KNeighborsClassifier(n_neighbors=i))])\r\n",
    "    pipe_holdout_list.append(pipe_holdout.fit(X_train_holdout,y_train_holdout))"
   ],
   "outputs": [],
   "metadata": {}
  },
  {
   "cell_type": "markdown",
   "source": [
    "### Mostrando resultados"
   ],
   "metadata": {}
  },
  {
   "cell_type": "code",
   "execution_count": 195,
   "source": [
    "result_holdout_pipe = []\r\n",
    "j=0\r\n",
    "\r\n",
    "for i in pipe_holdout_list:\r\n",
    "    holdout_pred = i.predict(X_val_holdout)\r\n",
    "    result_holdout_pipe.append([metrics.f1_score(y_val_holdout, holdout_pred, average='weighted', zero_division=0), k_range[j]])\r\n",
    "    j= j+1\r\n",
    "\r\n",
    "result_holdout_pipe.sort(reverse=True)"
   ],
   "outputs": [],
   "metadata": {}
  },
  {
   "cell_type": "code",
   "execution_count": 196,
   "source": [
    "print(*result_holdout_pipe, sep = \"\\n\")"
   ],
   "outputs": [
    {
     "output_type": "stream",
     "name": "stdout",
     "text": [
      "[0.7573967790184007, 19]\n",
      "[0.7555475266815472, 37]\n",
      "[0.7550506608452175, 29]\n",
      "[0.7525485618508875, 17]\n",
      "[0.7483921878082461, 51]\n",
      "[0.7481646908788137, 25]\n",
      "[0.7481646908788137, 23]\n",
      "[0.7477108319365817, 15]\n",
      "[0.7461129082750705, 11]\n",
      "[0.7459608551859475, 33]\n",
      "[0.7459608551859475, 31]\n",
      "[0.745448861238335, 21]\n",
      "[0.7433864065997517, 8]\n",
      "[0.7432542332761288, 59]\n",
      "[0.742598324844869, 16]\n",
      "[0.7411436699857753, 42]\n",
      "[0.7411436699857753, 39]\n",
      "[0.7411436699857753, 36]\n",
      "[0.7388744687064015, 55]\n",
      "[0.7388744687064015, 35]\n",
      "[0.7388744687064015, 27]\n",
      "[0.7385146413445003, 46]\n",
      "[0.7380622566300316, 9]\n",
      "[0.7364108634181626, 45]\n",
      "[0.7364108634181626, 41]\n",
      "[0.7364108634181626, 30]\n",
      "[0.7357270066947488, 73]\n",
      "[0.7338783549309865, 14]\n",
      "[0.7338783549309865, 12]\n",
      "[0.7337983682109491, 53]\n",
      "[0.7337983682109491, 49]\n",
      "[0.7337983682109491, 48]\n",
      "[0.7337983682109491, 47]\n",
      "[0.7337983682109491, 44]\n",
      "[0.7337983682109491, 40]\n",
      "[0.7316985048943813, 43]\n",
      "[0.7316985048943813, 34]\n",
      "[0.7311582503935299, 18]\n",
      "[0.728442154529111, 7]\n",
      "[0.7280909480909481, 58]\n",
      "[0.7263525316395936, 65]\n",
      "[0.7263525316395936, 63]\n",
      "[0.7263525316395936, 61]\n",
      "[0.7263525316395936, 50]\n",
      "[0.7263525316395936, 38]\n",
      "[0.7247381504954474, 20]\n",
      "[0.7236401049960371, 1]\n",
      "[0.72354516678841, 3]\n",
      "[0.7234352395642716, 64]\n",
      "[0.7216982940387198, 57]\n",
      "[0.7216912578507011, 13]\n",
      "[0.7203417580481837, 75]\n",
      "[0.7203417580481837, 74]\n",
      "[0.7203417580481837, 72]\n",
      "[0.7203417580481837, 71]\n",
      "[0.7203417580481837, 60]\n",
      "[0.7197739940007981, 22]\n",
      "[0.7188022554929028, 52]\n",
      "[0.7170640113798009, 32]\n",
      "[0.7157314457314458, 69]\n",
      "[0.7157314457314458, 67]\n",
      "[0.7157314457314458, 56]\n",
      "[0.7153913813453466, 10]\n",
      "[0.7141904219346865, 28]\n",
      "[0.7124749507728231, 70]\n",
      "[0.7124749507728231, 68]\n",
      "[0.7124482146379957, 24]\n",
      "[0.7095982198664901, 26]\n",
      "[0.7090208124928072, 78]\n",
      "[0.7090208124928072, 77]\n",
      "[0.7079125028503253, 66]\n",
      "[0.7079125028503253, 2]\n",
      "[0.7046233957742909, 5]\n",
      "[0.7044858432210692, 79]\n",
      "[0.7033719433719434, 62]\n",
      "[0.7033719433719434, 54]\n",
      "[0.7008506958971356, 85]\n",
      "[0.7008506958971356, 80]\n",
      "[0.7008506958971356, 76]\n",
      "[0.6967293896178882, 6]\n",
      "[0.6963695434707554, 83]\n",
      "[0.6963695434707554, 82]\n",
      "[0.6925452925452925, 84]\n",
      "[0.6919107727198381, 81]\n",
      "[0.6809445234708392, 4]\n",
      "[0.6755062989819086, 100]\n",
      "[0.6755062989819086, 99]\n",
      "[0.6755062989819086, 95]\n",
      "[0.6667608785255844, 98]\n",
      "[0.6667608785255844, 97]\n",
      "[0.6667608785255844, 93]\n",
      "[0.6667608785255844, 89]\n",
      "[0.6667608785255844, 88]\n",
      "[0.6667608785255844, 87]\n",
      "[0.6667608785255844, 86]\n",
      "[0.657856477166822, 96]\n",
      "[0.657856477166822, 94]\n",
      "[0.657856477166822, 92]\n",
      "[0.657856477166822, 91]\n",
      "[0.657856477166822, 90]\n"
     ]
    }
   ],
   "metadata": {}
  },
  {
   "cell_type": "markdown",
   "source": [
    "### Usando melhor resultado do pipe de K (KNN)"
   ],
   "metadata": {}
  },
  {
   "cell_type": "code",
   "execution_count": 197,
   "source": [
    "knn = KNeighborsClassifier(n_neighbors=result_holdout_pipe[0][1])\r\n",
    "knn.fit(X_train, y_train)"
   ],
   "outputs": [
    {
     "output_type": "execute_result",
     "data": {
      "text/plain": [
       "KNeighborsClassifier(n_neighbors=19)"
      ]
     },
     "metadata": {},
     "execution_count": 197
    }
   ],
   "metadata": {}
  },
  {
   "cell_type": "markdown",
   "source": [
    "### Exibindo resultado"
   ],
   "metadata": {}
  },
  {
   "cell_type": "code",
   "execution_count": 198,
   "source": [
    "y_pred = knn.predict(X_test)\r\n",
    "print(metrics.classification_report(y_test, y_pred, zero_division=0))"
   ],
   "outputs": [
    {
     "output_type": "stream",
     "name": "stdout",
     "text": [
      "              precision    recall  f1-score   support\n",
      "\n",
      "           0       0.77      0.83      0.80       100\n",
      "           1       0.63      0.54      0.58        54\n",
      "\n",
      "    accuracy                           0.73       154\n",
      "   macro avg       0.70      0.68      0.69       154\n",
      "weighted avg       0.72      0.73      0.72       154\n",
      "\n"
     ]
    }
   ],
   "metadata": {}
  },
  {
   "cell_type": "markdown",
   "source": [
    "## Questão 02"
   ],
   "metadata": {}
  },
  {
   "cell_type": "code",
   "execution_count": 199,
   "source": [
    "knn_list = []\r\n",
    "\r\n",
    "for i in k_range:\r\n",
    "    knn = KNeighborsClassifier(n_neighbors=i)\r\n",
    "    knn_list.append(knn)\r\n",
    "\r\n",
    "cv_list = []\r\n",
    "j = 0\r\n",
    "for i in knn_list:\r\n",
    "    cv_list.append([cross_val_score(i,X_train,y_train,cv=5,scoring='f1_weighted').mean(),k_range[j]])\r\n",
    "    j =j+1"
   ],
   "outputs": [],
   "metadata": {}
  },
  {
   "cell_type": "markdown",
   "source": [
    "### Exibindo resultados"
   ],
   "metadata": {}
  },
  {
   "cell_type": "code",
   "execution_count": 200,
   "source": [
    "cv_list.sort(reverse=True)\r\n",
    "print(*cv_list, sep = \"\\n\")"
   ],
   "outputs": [
    {
     "output_type": "stream",
     "name": "stdout",
     "text": [
      "[0.7606241388532532, 12]\n",
      "[0.758260766571087, 14]\n",
      "[0.7564372883827548, 15]\n",
      "[0.7503549799350728, 11]\n",
      "[0.7500613027439541, 17]\n",
      "[0.7492766940816857, 16]\n",
      "[0.7488404793577346, 10]\n",
      "[0.747555881225926, 19]\n",
      "[0.7448849237389392, 27]\n",
      "[0.7436937094136458, 13]\n",
      "[0.7432099292202186, 9]\n",
      "[0.7428826323389677, 29]\n",
      "[0.7405528023366097, 36]\n",
      "[0.7399650411141376, 23]\n",
      "[0.7395763029378862, 28]\n",
      "[0.7392051294083578, 54]\n",
      "[0.7391921881495435, 25]\n",
      "[0.7384521433641553, 26]\n",
      "[0.7374244968245739, 20]\n",
      "[0.7371472480935382, 21]\n",
      "[0.7367600481660022, 52]\n",
      "[0.7366779405819885, 35]\n",
      "[0.7357486409159828, 63]\n",
      "[0.7354765596511476, 34]\n",
      "[0.7353565440374894, 53]\n",
      "[0.7353416764765986, 33]\n",
      "[0.7352273454313959, 31]\n",
      "[0.7348283833554563, 37]\n",
      "[0.7346699681169848, 49]\n",
      "[0.7346491747446551, 5]\n",
      "[0.7341867319912121, 59]\n",
      "[0.7340963140905447, 24]\n",
      "[0.7337688717326969, 22]\n",
      "[0.7336859157550202, 41]\n",
      "[0.7335790612858796, 39]\n",
      "[0.7328788922160616, 32]\n",
      "[0.7328777726837418, 50]\n",
      "[0.7326505537363621, 18]\n",
      "[0.7326001474005042, 55]\n",
      "[0.7323084867542471, 43]\n",
      "[0.7323082904659534, 38]\n",
      "[0.7316957323758387, 7]\n",
      "[0.7316136761908891, 60]\n",
      "[0.731301629667817, 56]\n",
      "[0.7312198300996834, 65]\n",
      "[0.731213783856953, 51]\n",
      "[0.7311883586122804, 58]\n",
      "[0.7310447094628035, 57]\n",
      "[0.7306699397370077, 47]\n",
      "[0.7302565144535562, 61]\n",
      "[0.7299355481602816, 30]\n",
      "[0.7287052674741961, 45]\n",
      "[0.7280990087818381, 64]\n",
      "[0.7276975092463218, 42]\n",
      "[0.7276039691730146, 44]\n",
      "[0.7275265124814917, 46]\n",
      "[0.7273614792966535, 62]\n",
      "[0.7268316722474022, 40]\n",
      "[0.7265236179069612, 67]\n",
      "[0.7260862873777234, 8]\n",
      "[0.7249986870628676, 69]\n",
      "[0.7243848278035041, 66]\n",
      "[0.7232134781854609, 6]\n",
      "[0.7229532247427413, 3]\n",
      "[0.7225937371378894, 71]\n",
      "[0.7224339109556094, 68]\n",
      "[0.7218388338692353, 48]\n",
      "[0.7216583655909804, 70]\n",
      "[0.721122129813634, 75]\n",
      "[0.7191463184705769, 77]\n",
      "[0.71904878993913, 79]\n",
      "[0.715813146996533, 72]\n",
      "[0.7156831886106341, 74]\n",
      "[0.7150721533634412, 73]\n",
      "[0.7135410907420628, 78]\n",
      "[0.711708018688201, 81]\n",
      "[0.7106067933938316, 83]\n",
      "[0.7102041613110122, 76]\n",
      "[0.7100109922701529, 93]\n",
      "[0.7087621248071639, 80]\n",
      "[0.7086641436389287, 95]\n",
      "[0.7082121367735201, 85]\n",
      "[0.7068582970056612, 4]\n",
      "[0.706390176129523, 82]\n",
      "[0.7063095018591778, 91]\n",
      "[0.7040353623593265, 94]\n",
      "[0.7037354446435984, 86]\n",
      "[0.7032107561117874, 84]\n",
      "[0.7023102528774823, 89]\n",
      "[0.7023102528774823, 87]\n",
      "[0.7012585535792727, 2]\n",
      "[0.7010276966053726, 99]\n",
      "[0.6994481457958609, 90]\n",
      "[0.6988739898518964, 92]\n",
      "[0.6974676905771402, 97]\n",
      "[0.6971139309444181, 88]\n",
      "[0.6961556498638053, 1]\n",
      "[0.694199423754615, 96]\n",
      "[0.6939060341791323, 100]\n",
      "[0.6909880408741348, 98]\n"
     ]
    }
   ],
   "metadata": {}
  },
  {
   "cell_type": "markdown",
   "source": [
    "### Usando o melhor resultado"
   ],
   "metadata": {}
  },
  {
   "cell_type": "code",
   "execution_count": 201,
   "source": [
    "knn = KNeighborsClassifier(n_neighbors=cv_list[0][1])\r\n",
    "knn.fit(X_train, y_train)"
   ],
   "outputs": [
    {
     "output_type": "execute_result",
     "data": {
      "text/plain": [
       "KNeighborsClassifier(n_neighbors=12)"
      ]
     },
     "metadata": {},
     "execution_count": 201
    }
   ],
   "metadata": {}
  },
  {
   "cell_type": "markdown",
   "source": [
    "### Exibindo resultado"
   ],
   "metadata": {}
  },
  {
   "cell_type": "code",
   "execution_count": 202,
   "source": [
    "y_pred = knn.predict(X_test)\r\n",
    "print(metrics.classification_report(y_test, y_pred, zero_division=0))"
   ],
   "outputs": [
    {
     "output_type": "stream",
     "name": "stdout",
     "text": [
      "              precision    recall  f1-score   support\n",
      "\n",
      "           0       0.74      0.84      0.79       100\n",
      "           1       0.60      0.44      0.51        54\n",
      "\n",
      "    accuracy                           0.70       154\n",
      "   macro avg       0.67      0.64      0.65       154\n",
      "weighted avg       0.69      0.70      0.69       154\n",
      "\n"
     ]
    }
   ],
   "metadata": {}
  },
  {
   "cell_type": "markdown",
   "source": [
    "### Com escalonamento"
   ],
   "metadata": {}
  },
  {
   "cell_type": "code",
   "execution_count": 203,
   "source": [
    "esc_list = []\r\n",
    "\r\n",
    "for i in k_range:\r\n",
    "    esc_list.append(Pipeline(steps = [('scale',StandardScaler()),('KNN',KNeighborsClassifier(n_neighbors=i))]))\r\n",
    "\r\n",
    "cv_esc_list = []\r\n",
    "j = 0\r\n",
    "for i in esc_list:\r\n",
    "    cv_esc_list.append([cross_val_score(i,X_train,y_train,cv=5,scoring='f1_weighted').mean(),k_range[j]])\r\n",
    "    j =j+1"
   ],
   "outputs": [],
   "metadata": {}
  },
  {
   "cell_type": "code",
   "execution_count": 204,
   "source": [
    "cv_esc_list.sort(reverse=True)\r\n",
    "print(*cv_esc_list, sep = \"\\n\")"
   ],
   "outputs": [
    {
     "output_type": "stream",
     "name": "stdout",
     "text": [
      "[0.7507420007654881, 31]\n",
      "[0.7485312592517452, 30]\n",
      "[0.7473043240771392, 13]\n",
      "[0.7467381782824891, 29]\n",
      "[0.7465483105942291, 41]\n",
      "[0.7449011096556681, 35]\n",
      "[0.7448486457570255, 33]\n",
      "[0.744209984300043, 15]\n",
      "[0.7412629069950082, 14]\n",
      "[0.7401998752328218, 24]\n",
      "[0.739968342864092, 25]\n",
      "[0.7394140965024014, 7]\n",
      "[0.7392839849411941, 9]\n",
      "[0.7390136639665208, 5]\n",
      "[0.7388287629854672, 45]\n",
      "[0.738820473041174, 32]\n",
      "[0.7380539193535964, 42]\n",
      "[0.7380397871255525, 37]\n",
      "[0.7367209127258352, 11]\n",
      "[0.7353603495110055, 39]\n",
      "[0.7349044065501291, 17]\n",
      "[0.7348863779724158, 20]\n",
      "[0.7347352032580259, 23]\n",
      "[0.7346151154816634, 49]\n",
      "[0.734143346654964, 10]\n",
      "[0.7339137258082209, 40]\n",
      "[0.733848984933099, 43]\n",
      "[0.7338093400301827, 21]\n",
      "[0.7336668652908517, 55]\n",
      "[0.7334698091384105, 19]\n",
      "[0.7333589731099172, 56]\n",
      "[0.7330100206087724, 16]\n",
      "[0.732764780081105, 22]\n",
      "[0.7324137413531135, 12]\n",
      "[0.7316924690116421, 28]\n",
      "[0.7311915591763735, 47]\n",
      "[0.7307722544085318, 34]\n",
      "[0.7307175358299002, 18]\n",
      "[0.730629798131661, 26]\n",
      "[0.7305396329098646, 27]\n",
      "[0.7305327888104216, 59]\n",
      "[0.7305070420035534, 38]\n",
      "[0.7304947891265532, 57]\n",
      "[0.7303840728256299, 36]\n",
      "[0.72888746243415, 51]\n",
      "[0.7286941849766183, 58]\n",
      "[0.7280469739103083, 8]\n",
      "[0.7272652337743785, 69]\n",
      "[0.7260919928778349, 46]\n",
      "[0.7260061210344665, 61]\n",
      "[0.7256193143827245, 48]\n",
      "[0.725521482169834, 50]\n",
      "[0.7245532502916212, 54]\n",
      "[0.7237629451721792, 60]\n",
      "[0.7234886779758513, 53]\n",
      "[0.7229938890072407, 63]\n",
      "[0.7224810210962063, 68]\n",
      "[0.7220787163400312, 44]\n",
      "[0.7202873869962465, 67]\n",
      "[0.7194432869453249, 52]\n",
      "[0.7187149863060439, 62]\n",
      "[0.7163026574993787, 73]\n",
      "[0.7163026574993787, 71]\n",
      "[0.7161566440946217, 65]\n",
      "[0.7155891933937448, 70]\n",
      "[0.715406204106255, 3]\n",
      "[0.7149456265651449, 66]\n",
      "[0.7147857778709896, 77]\n",
      "[0.7132591199106851, 1]\n",
      "[0.7123313684992094, 75]\n",
      "[0.7121350868110234, 72]\n",
      "[0.7114225362201453, 64]\n",
      "[0.7103507792800041, 79]\n",
      "[0.7068253109751547, 74]\n",
      "[0.7066438955473222, 76]\n",
      "[0.7065162047968996, 6]\n",
      "[0.7022990490904677, 78]\n",
      "[0.701936506073786, 82]\n",
      "[0.7014465486915032, 81]\n",
      "[0.7010492770442702, 85]\n",
      "[0.7005476887665978, 83]\n",
      "[0.6997976015928791, 84]\n",
      "[0.69943380991057, 89]\n",
      "[0.69943380991057, 87]\n",
      "[0.6967933171519907, 86]\n",
      "[0.6951175642072404, 80]\n",
      "[0.6910581201130481, 88]\n",
      "[0.6901070556898878, 91]\n",
      "[0.6890370175547919, 4]\n",
      "[0.6874510042428504, 99]\n",
      "[0.686969237063506, 93]\n",
      "[0.6863206382178608, 90]\n",
      "[0.686160402484151, 97]\n",
      "[0.6846465804303794, 96]\n",
      "[0.6820943070116668, 95]\n",
      "[0.6811086180319291, 94]\n",
      "[0.6799138485691569, 100]\n",
      "[0.6799138485691569, 98]\n",
      "[0.6798615015699259, 92]\n",
      "[0.659693202655767, 2]\n"
     ]
    }
   ],
   "metadata": {}
  },
  {
   "cell_type": "markdown",
   "source": [
    "### Usando melhor resultado"
   ],
   "metadata": {}
  },
  {
   "cell_type": "code",
   "execution_count": 205,
   "source": [
    "knn = KNeighborsClassifier(n_neighbors=cv_esc_list[0][1])\r\n",
    "knn.fit(X_train, y_train)"
   ],
   "outputs": [
    {
     "output_type": "execute_result",
     "data": {
      "text/plain": [
       "KNeighborsClassifier(n_neighbors=31)"
      ]
     },
     "metadata": {},
     "execution_count": 205
    }
   ],
   "metadata": {}
  },
  {
   "cell_type": "markdown",
   "source": [
    "### Exibindo resultado"
   ],
   "metadata": {}
  },
  {
   "cell_type": "code",
   "execution_count": 206,
   "source": [
    "y_pred = knn.predict(X_test)\r\n",
    "print(metrics.classification_report(y_test, y_pred, zero_division=0))"
   ],
   "outputs": [
    {
     "output_type": "stream",
     "name": "stdout",
     "text": [
      "              precision    recall  f1-score   support\n",
      "\n",
      "           0       0.72      0.81      0.76       100\n",
      "           1       0.54      0.41      0.46        54\n",
      "\n",
      "    accuracy                           0.67       154\n",
      "   macro avg       0.63      0.61      0.61       154\n",
      "weighted avg       0.65      0.67      0.66       154\n",
      "\n"
     ]
    }
   ],
   "metadata": {}
  },
  {
   "cell_type": "markdown",
   "source": [
    "## Questão 03"
   ],
   "metadata": {}
  },
  {
   "cell_type": "markdown",
   "source": [
    "### Usando GridSearchCV"
   ],
   "metadata": {}
  },
  {
   "cell_type": "code",
   "execution_count": 214,
   "source": [
    "knn = KNeighborsClassifier()\r\n",
    "\r\n",
    "param_grid = [{'n_neighbors': k_range}]"
   ],
   "outputs": [],
   "metadata": {}
  },
  {
   "cell_type": "code",
   "execution_count": 216,
   "source": [
    "gs = model_selection.GridSearchCV(estimator=knn, param_grid=param_grid, \r\n",
    "                    return_train_score=False, scoring='f1_weighted', cv=5)\r\n",
    "gs = gs.fit(X_train, y_train)\r\n",
    "print(gs.best_score_)\r\n",
    "print(gs.best_params_)"
   ],
   "outputs": [
    {
     "output_type": "stream",
     "name": "stdout",
     "text": [
      "0.7606241388532532\n",
      "{'n_neighbors': 12}\n"
     ]
    }
   ],
   "metadata": {}
  },
  {
   "cell_type": "markdown",
   "source": [
    "### Exibindo novo DF"
   ],
   "metadata": {}
  },
  {
   "cell_type": "code",
   "execution_count": 222,
   "source": [
    "df1 = pd.DataFrame(gs.cv_results_)\r\n",
    "df1 = df1.sort_values(by='rank_test_score')\r\n",
    "df1"
   ],
   "outputs": [
    {
     "output_type": "execute_result",
     "data": {
      "text/plain": [
       "    mean_fit_time  std_fit_time  mean_score_time  std_score_time  \\\n",
       "11       0.003601      0.000800         0.009402        0.000800   \n",
       "13       0.005801      0.001600         0.013203        0.001833   \n",
       "14       0.006202      0.000749         0.013003        0.000632   \n",
       "10       0.003801      0.001167         0.009603        0.001021   \n",
       "16       0.006201      0.001940         0.012403        0.002059   \n",
       "..            ...           ...              ...             ...   \n",
       "87       0.003600      0.000489         0.011203        0.001167   \n",
       "0        0.004401      0.000801         0.010202        0.002136   \n",
       "95       0.003601      0.000490         0.009732        0.000743   \n",
       "99       0.003995      0.000633         0.010029        0.001677   \n",
       "97       0.003603      0.000799         0.009803        0.000979   \n",
       "\n",
       "   param_n_neighbors                params  split0_test_score  \\\n",
       "11                12   {'n_neighbors': 12}           0.754521   \n",
       "13                14   {'n_neighbors': 14}           0.752093   \n",
       "14                15   {'n_neighbors': 15}           0.764077   \n",
       "10                11   {'n_neighbors': 11}           0.734783   \n",
       "16                17   {'n_neighbors': 17}           0.761841   \n",
       "..               ...                   ...                ...   \n",
       "87                88   {'n_neighbors': 88}           0.717800   \n",
       "0                  1    {'n_neighbors': 1}           0.647306   \n",
       "95                96   {'n_neighbors': 96}           0.754213   \n",
       "99               100  {'n_neighbors': 100}           0.743144   \n",
       "97                98   {'n_neighbors': 98}           0.743144   \n",
       "\n",
       "    split1_test_score  split2_test_score  split3_test_score  \\\n",
       "11           0.776571           0.729023           0.736149   \n",
       "13           0.793758           0.690636           0.732693   \n",
       "14           0.797780           0.679818           0.732146   \n",
       "10           0.801087           0.700802           0.721930   \n",
       "16           0.775363           0.700802           0.711541   \n",
       "..                ...                ...                ...   \n",
       "87           0.688104           0.661411           0.674702   \n",
       "0            0.644077           0.686524           0.723577   \n",
       "95           0.657870           0.668045           0.657870   \n",
       "99           0.669757           0.669757           0.639491   \n",
       "97           0.657870           0.668045           0.645712   \n",
       "\n",
       "    split4_test_score  mean_test_score  std_test_score  rank_test_score  \n",
       "11           0.806857         0.760624        0.028379                1  \n",
       "13           0.822124         0.758261        0.046051                2  \n",
       "14           0.808366         0.756437        0.046743                3  \n",
       "10           0.793173         0.750355        0.039782                4  \n",
       "16           0.800760         0.750061        0.038104                5  \n",
       "..                ...              ...             ...              ...  \n",
       "87           0.743554         0.697114        0.029809               96  \n",
       "0            0.779294         0.696156        0.050706               97  \n",
       "95           0.733000         0.694199        0.041063               98  \n",
       "99           0.747382         0.693906        0.043385               99  \n",
       "97           0.740169         0.690988        0.041981              100  \n",
       "\n",
       "[100 rows x 14 columns]"
      ],
      "text/html": [
       "<div>\n",
       "<style scoped>\n",
       "    .dataframe tbody tr th:only-of-type {\n",
       "        vertical-align: middle;\n",
       "    }\n",
       "\n",
       "    .dataframe tbody tr th {\n",
       "        vertical-align: top;\n",
       "    }\n",
       "\n",
       "    .dataframe thead th {\n",
       "        text-align: right;\n",
       "    }\n",
       "</style>\n",
       "<table border=\"1\" class=\"dataframe\">\n",
       "  <thead>\n",
       "    <tr style=\"text-align: right;\">\n",
       "      <th></th>\n",
       "      <th>mean_fit_time</th>\n",
       "      <th>std_fit_time</th>\n",
       "      <th>mean_score_time</th>\n",
       "      <th>std_score_time</th>\n",
       "      <th>param_n_neighbors</th>\n",
       "      <th>params</th>\n",
       "      <th>split0_test_score</th>\n",
       "      <th>split1_test_score</th>\n",
       "      <th>split2_test_score</th>\n",
       "      <th>split3_test_score</th>\n",
       "      <th>split4_test_score</th>\n",
       "      <th>mean_test_score</th>\n",
       "      <th>std_test_score</th>\n",
       "      <th>rank_test_score</th>\n",
       "    </tr>\n",
       "  </thead>\n",
       "  <tbody>\n",
       "    <tr>\n",
       "      <th>11</th>\n",
       "      <td>0.003601</td>\n",
       "      <td>0.000800</td>\n",
       "      <td>0.009402</td>\n",
       "      <td>0.000800</td>\n",
       "      <td>12</td>\n",
       "      <td>{'n_neighbors': 12}</td>\n",
       "      <td>0.754521</td>\n",
       "      <td>0.776571</td>\n",
       "      <td>0.729023</td>\n",
       "      <td>0.736149</td>\n",
       "      <td>0.806857</td>\n",
       "      <td>0.760624</td>\n",
       "      <td>0.028379</td>\n",
       "      <td>1</td>\n",
       "    </tr>\n",
       "    <tr>\n",
       "      <th>13</th>\n",
       "      <td>0.005801</td>\n",
       "      <td>0.001600</td>\n",
       "      <td>0.013203</td>\n",
       "      <td>0.001833</td>\n",
       "      <td>14</td>\n",
       "      <td>{'n_neighbors': 14}</td>\n",
       "      <td>0.752093</td>\n",
       "      <td>0.793758</td>\n",
       "      <td>0.690636</td>\n",
       "      <td>0.732693</td>\n",
       "      <td>0.822124</td>\n",
       "      <td>0.758261</td>\n",
       "      <td>0.046051</td>\n",
       "      <td>2</td>\n",
       "    </tr>\n",
       "    <tr>\n",
       "      <th>14</th>\n",
       "      <td>0.006202</td>\n",
       "      <td>0.000749</td>\n",
       "      <td>0.013003</td>\n",
       "      <td>0.000632</td>\n",
       "      <td>15</td>\n",
       "      <td>{'n_neighbors': 15}</td>\n",
       "      <td>0.764077</td>\n",
       "      <td>0.797780</td>\n",
       "      <td>0.679818</td>\n",
       "      <td>0.732146</td>\n",
       "      <td>0.808366</td>\n",
       "      <td>0.756437</td>\n",
       "      <td>0.046743</td>\n",
       "      <td>3</td>\n",
       "    </tr>\n",
       "    <tr>\n",
       "      <th>10</th>\n",
       "      <td>0.003801</td>\n",
       "      <td>0.001167</td>\n",
       "      <td>0.009603</td>\n",
       "      <td>0.001021</td>\n",
       "      <td>11</td>\n",
       "      <td>{'n_neighbors': 11}</td>\n",
       "      <td>0.734783</td>\n",
       "      <td>0.801087</td>\n",
       "      <td>0.700802</td>\n",
       "      <td>0.721930</td>\n",
       "      <td>0.793173</td>\n",
       "      <td>0.750355</td>\n",
       "      <td>0.039782</td>\n",
       "      <td>4</td>\n",
       "    </tr>\n",
       "    <tr>\n",
       "      <th>16</th>\n",
       "      <td>0.006201</td>\n",
       "      <td>0.001940</td>\n",
       "      <td>0.012403</td>\n",
       "      <td>0.002059</td>\n",
       "      <td>17</td>\n",
       "      <td>{'n_neighbors': 17}</td>\n",
       "      <td>0.761841</td>\n",
       "      <td>0.775363</td>\n",
       "      <td>0.700802</td>\n",
       "      <td>0.711541</td>\n",
       "      <td>0.800760</td>\n",
       "      <td>0.750061</td>\n",
       "      <td>0.038104</td>\n",
       "      <td>5</td>\n",
       "    </tr>\n",
       "    <tr>\n",
       "      <th>...</th>\n",
       "      <td>...</td>\n",
       "      <td>...</td>\n",
       "      <td>...</td>\n",
       "      <td>...</td>\n",
       "      <td>...</td>\n",
       "      <td>...</td>\n",
       "      <td>...</td>\n",
       "      <td>...</td>\n",
       "      <td>...</td>\n",
       "      <td>...</td>\n",
       "      <td>...</td>\n",
       "      <td>...</td>\n",
       "      <td>...</td>\n",
       "      <td>...</td>\n",
       "    </tr>\n",
       "    <tr>\n",
       "      <th>87</th>\n",
       "      <td>0.003600</td>\n",
       "      <td>0.000489</td>\n",
       "      <td>0.011203</td>\n",
       "      <td>0.001167</td>\n",
       "      <td>88</td>\n",
       "      <td>{'n_neighbors': 88}</td>\n",
       "      <td>0.717800</td>\n",
       "      <td>0.688104</td>\n",
       "      <td>0.661411</td>\n",
       "      <td>0.674702</td>\n",
       "      <td>0.743554</td>\n",
       "      <td>0.697114</td>\n",
       "      <td>0.029809</td>\n",
       "      <td>96</td>\n",
       "    </tr>\n",
       "    <tr>\n",
       "      <th>0</th>\n",
       "      <td>0.004401</td>\n",
       "      <td>0.000801</td>\n",
       "      <td>0.010202</td>\n",
       "      <td>0.002136</td>\n",
       "      <td>1</td>\n",
       "      <td>{'n_neighbors': 1}</td>\n",
       "      <td>0.647306</td>\n",
       "      <td>0.644077</td>\n",
       "      <td>0.686524</td>\n",
       "      <td>0.723577</td>\n",
       "      <td>0.779294</td>\n",
       "      <td>0.696156</td>\n",
       "      <td>0.050706</td>\n",
       "      <td>97</td>\n",
       "    </tr>\n",
       "    <tr>\n",
       "      <th>95</th>\n",
       "      <td>0.003601</td>\n",
       "      <td>0.000490</td>\n",
       "      <td>0.009732</td>\n",
       "      <td>0.000743</td>\n",
       "      <td>96</td>\n",
       "      <td>{'n_neighbors': 96}</td>\n",
       "      <td>0.754213</td>\n",
       "      <td>0.657870</td>\n",
       "      <td>0.668045</td>\n",
       "      <td>0.657870</td>\n",
       "      <td>0.733000</td>\n",
       "      <td>0.694199</td>\n",
       "      <td>0.041063</td>\n",
       "      <td>98</td>\n",
       "    </tr>\n",
       "    <tr>\n",
       "      <th>99</th>\n",
       "      <td>0.003995</td>\n",
       "      <td>0.000633</td>\n",
       "      <td>0.010029</td>\n",
       "      <td>0.001677</td>\n",
       "      <td>100</td>\n",
       "      <td>{'n_neighbors': 100}</td>\n",
       "      <td>0.743144</td>\n",
       "      <td>0.669757</td>\n",
       "      <td>0.669757</td>\n",
       "      <td>0.639491</td>\n",
       "      <td>0.747382</td>\n",
       "      <td>0.693906</td>\n",
       "      <td>0.043385</td>\n",
       "      <td>99</td>\n",
       "    </tr>\n",
       "    <tr>\n",
       "      <th>97</th>\n",
       "      <td>0.003603</td>\n",
       "      <td>0.000799</td>\n",
       "      <td>0.009803</td>\n",
       "      <td>0.000979</td>\n",
       "      <td>98</td>\n",
       "      <td>{'n_neighbors': 98}</td>\n",
       "      <td>0.743144</td>\n",
       "      <td>0.657870</td>\n",
       "      <td>0.668045</td>\n",
       "      <td>0.645712</td>\n",
       "      <td>0.740169</td>\n",
       "      <td>0.690988</td>\n",
       "      <td>0.041981</td>\n",
       "      <td>100</td>\n",
       "    </tr>\n",
       "  </tbody>\n",
       "</table>\n",
       "<p>100 rows × 14 columns</p>\n",
       "</div>"
      ]
     },
     "metadata": {},
     "execution_count": 222
    }
   ],
   "metadata": {}
  },
  {
   "cell_type": "markdown",
   "source": [
    "### Usando melhor resultado"
   ],
   "metadata": {}
  },
  {
   "cell_type": "code",
   "execution_count": 224,
   "source": [
    "best_k = df1['param_n_neighbors'].iloc[0]\r\n",
    "\r\n",
    "knn = KNeighborsClassifier(n_neighbors=best_k)\r\n",
    "knn.fit(X_train, y_train)"
   ],
   "outputs": [
    {
     "output_type": "execute_result",
     "data": {
      "text/plain": [
       "KNeighborsClassifier(n_neighbors=12)"
      ]
     },
     "metadata": {},
     "execution_count": 224
    }
   ],
   "metadata": {}
  },
  {
   "cell_type": "markdown",
   "source": [
    "### Exibindo resultado"
   ],
   "metadata": {}
  },
  {
   "cell_type": "code",
   "execution_count": 225,
   "source": [
    "y_pred = knn.predict(X_test)\r\n",
    "print(metrics.classification_report(y_test, y_pred, zero_division=0))"
   ],
   "outputs": [
    {
     "output_type": "stream",
     "name": "stdout",
     "text": [
      "              precision    recall  f1-score   support\n",
      "\n",
      "           0       0.74      0.84      0.79       100\n",
      "           1       0.60      0.44      0.51        54\n",
      "\n",
      "    accuracy                           0.70       154\n",
      "   macro avg       0.67      0.64      0.65       154\n",
      "weighted avg       0.69      0.70      0.69       154\n",
      "\n"
     ]
    }
   ],
   "metadata": {}
  },
  {
   "cell_type": "markdown",
   "source": [
    "### Com escalonamento"
   ],
   "metadata": {}
  },
  {
   "cell_type": "code",
   "execution_count": 229,
   "source": [
    "knn_esc = pipeline.make_pipeline(StandardScaler(),KNeighborsClassifier())\r\n",
    "\r\n",
    "param_grid = [{'kneighborsclassifier__n_neighbors': k_range}]\r\n",
    "\r\n",
    "gs = model_selection.GridSearchCV(estimator=knn_esc, param_grid=param_grid, \r\n",
    "                    return_train_score=False, scoring='f1_weighted', cv=5)\r\n",
    "gs = gs.fit(X_train, y_train)\r\n",
    "print(gs.best_score_)\r\n",
    "print(gs.best_params_)"
   ],
   "outputs": [
    {
     "output_type": "stream",
     "name": "stdout",
     "text": [
      "0.7507420007654881\n",
      "{'kneighborsclassifier__n_neighbors': 31}\n"
     ]
    }
   ],
   "metadata": {}
  },
  {
   "cell_type": "markdown",
   "source": [
    "### Exibindo novo DF"
   ],
   "metadata": {}
  },
  {
   "cell_type": "code",
   "execution_count": 230,
   "source": [
    "df2 = pd.DataFrame(gs.cv_results_)\r\n",
    "df2 = df2.sort_values(by='rank_test_score')\r\n",
    "df2"
   ],
   "outputs": [
    {
     "output_type": "execute_result",
     "data": {
      "text/plain": [
       "    mean_fit_time  std_fit_time  mean_score_time  std_score_time  \\\n",
       "30       0.006401      0.001357         0.010402        0.001357   \n",
       "29       0.006601      0.000800         0.011603        0.001855   \n",
       "12       0.010003      0.003225         0.014202        0.002713   \n",
       "28       0.008002      0.002098         0.012403        0.001855   \n",
       "40       0.007201      0.002136         0.012003        0.001674   \n",
       "..            ...           ...              ...             ...   \n",
       "93       0.004805      0.000398         0.012201        0.000746   \n",
       "97       0.011003      0.004605         0.015603        0.002059   \n",
       "99       0.008002      0.002099         0.017604        0.002577   \n",
       "91       0.005001      0.000632         0.012203        0.001167   \n",
       "1        0.005803      0.000749         0.009601        0.000798   \n",
       "\n",
       "   param_kneighborsclassifier__n_neighbors  \\\n",
       "30                                      31   \n",
       "29                                      30   \n",
       "12                                      13   \n",
       "28                                      29   \n",
       "40                                      41   \n",
       "..                                     ...   \n",
       "93                                      94   \n",
       "97                                      98   \n",
       "99                                     100   \n",
       "91                                      92   \n",
       "1                                        2   \n",
       "\n",
       "                                        params  split0_test_score  \\\n",
       "30   {'kneighborsclassifier__n_neighbors': 31}           0.732146   \n",
       "29   {'kneighborsclassifier__n_neighbors': 30}           0.736149   \n",
       "12   {'kneighborsclassifier__n_neighbors': 13}           0.717899   \n",
       "28   {'kneighborsclassifier__n_neighbors': 29}           0.707823   \n",
       "40   {'kneighborsclassifier__n_neighbors': 41}           0.761013   \n",
       "..                                         ...                ...   \n",
       "93   {'kneighborsclassifier__n_neighbors': 94}           0.701652   \n",
       "97   {'kneighborsclassifier__n_neighbors': 98}           0.689687   \n",
       "99  {'kneighborsclassifier__n_neighbors': 100}           0.689687   \n",
       "91   {'kneighborsclassifier__n_neighbors': 92}           0.689687   \n",
       "1     {'kneighborsclassifier__n_neighbors': 2}           0.690636   \n",
       "\n",
       "    split1_test_score  split2_test_score  split3_test_score  \\\n",
       "30           0.793758           0.732146           0.728918   \n",
       "29           0.791448           0.729023           0.724797   \n",
       "12           0.764077           0.754521           0.736149   \n",
       "28           0.791448           0.749427           0.710846   \n",
       "40           0.756689           0.703932           0.746990   \n",
       "..                ...                ...                ...   \n",
       "93           0.690690           0.690690           0.625263   \n",
       "97           0.690690           0.690690           0.631255   \n",
       "99           0.690690           0.690690           0.631255   \n",
       "91           0.690690           0.703190           0.625263   \n",
       "1            0.656630           0.620485           0.645743   \n",
       "\n",
       "    split4_test_score  mean_test_score  std_test_score  rank_test_score  \n",
       "30           0.766743         0.750742        0.025590                1  \n",
       "29           0.761240         0.748531        0.024902                2  \n",
       "12           0.763877         0.747304        0.017873                3  \n",
       "28           0.774147         0.746738        0.033347                4  \n",
       "40           0.764118         0.746548        0.022078                5  \n",
       "..                ...              ...             ...              ...  \n",
       "93           0.697247         0.681109        0.028230               96  \n",
       "97           0.697247         0.679914        0.024478               97  \n",
       "99           0.697247         0.679914        0.024478               97  \n",
       "91           0.690477         0.679862        0.027755               99  \n",
       "1            0.684972         0.659693        0.025837              100  \n",
       "\n",
       "[100 rows x 14 columns]"
      ],
      "text/html": [
       "<div>\n",
       "<style scoped>\n",
       "    .dataframe tbody tr th:only-of-type {\n",
       "        vertical-align: middle;\n",
       "    }\n",
       "\n",
       "    .dataframe tbody tr th {\n",
       "        vertical-align: top;\n",
       "    }\n",
       "\n",
       "    .dataframe thead th {\n",
       "        text-align: right;\n",
       "    }\n",
       "</style>\n",
       "<table border=\"1\" class=\"dataframe\">\n",
       "  <thead>\n",
       "    <tr style=\"text-align: right;\">\n",
       "      <th></th>\n",
       "      <th>mean_fit_time</th>\n",
       "      <th>std_fit_time</th>\n",
       "      <th>mean_score_time</th>\n",
       "      <th>std_score_time</th>\n",
       "      <th>param_kneighborsclassifier__n_neighbors</th>\n",
       "      <th>params</th>\n",
       "      <th>split0_test_score</th>\n",
       "      <th>split1_test_score</th>\n",
       "      <th>split2_test_score</th>\n",
       "      <th>split3_test_score</th>\n",
       "      <th>split4_test_score</th>\n",
       "      <th>mean_test_score</th>\n",
       "      <th>std_test_score</th>\n",
       "      <th>rank_test_score</th>\n",
       "    </tr>\n",
       "  </thead>\n",
       "  <tbody>\n",
       "    <tr>\n",
       "      <th>30</th>\n",
       "      <td>0.006401</td>\n",
       "      <td>0.001357</td>\n",
       "      <td>0.010402</td>\n",
       "      <td>0.001357</td>\n",
       "      <td>31</td>\n",
       "      <td>{'kneighborsclassifier__n_neighbors': 31}</td>\n",
       "      <td>0.732146</td>\n",
       "      <td>0.793758</td>\n",
       "      <td>0.732146</td>\n",
       "      <td>0.728918</td>\n",
       "      <td>0.766743</td>\n",
       "      <td>0.750742</td>\n",
       "      <td>0.025590</td>\n",
       "      <td>1</td>\n",
       "    </tr>\n",
       "    <tr>\n",
       "      <th>29</th>\n",
       "      <td>0.006601</td>\n",
       "      <td>0.000800</td>\n",
       "      <td>0.011603</td>\n",
       "      <td>0.001855</td>\n",
       "      <td>30</td>\n",
       "      <td>{'kneighborsclassifier__n_neighbors': 30}</td>\n",
       "      <td>0.736149</td>\n",
       "      <td>0.791448</td>\n",
       "      <td>0.729023</td>\n",
       "      <td>0.724797</td>\n",
       "      <td>0.761240</td>\n",
       "      <td>0.748531</td>\n",
       "      <td>0.024902</td>\n",
       "      <td>2</td>\n",
       "    </tr>\n",
       "    <tr>\n",
       "      <th>12</th>\n",
       "      <td>0.010003</td>\n",
       "      <td>0.003225</td>\n",
       "      <td>0.014202</td>\n",
       "      <td>0.002713</td>\n",
       "      <td>13</td>\n",
       "      <td>{'kneighborsclassifier__n_neighbors': 13}</td>\n",
       "      <td>0.717899</td>\n",
       "      <td>0.764077</td>\n",
       "      <td>0.754521</td>\n",
       "      <td>0.736149</td>\n",
       "      <td>0.763877</td>\n",
       "      <td>0.747304</td>\n",
       "      <td>0.017873</td>\n",
       "      <td>3</td>\n",
       "    </tr>\n",
       "    <tr>\n",
       "      <th>28</th>\n",
       "      <td>0.008002</td>\n",
       "      <td>0.002098</td>\n",
       "      <td>0.012403</td>\n",
       "      <td>0.001855</td>\n",
       "      <td>29</td>\n",
       "      <td>{'kneighborsclassifier__n_neighbors': 29}</td>\n",
       "      <td>0.707823</td>\n",
       "      <td>0.791448</td>\n",
       "      <td>0.749427</td>\n",
       "      <td>0.710846</td>\n",
       "      <td>0.774147</td>\n",
       "      <td>0.746738</td>\n",
       "      <td>0.033347</td>\n",
       "      <td>4</td>\n",
       "    </tr>\n",
       "    <tr>\n",
       "      <th>40</th>\n",
       "      <td>0.007201</td>\n",
       "      <td>0.002136</td>\n",
       "      <td>0.012003</td>\n",
       "      <td>0.001674</td>\n",
       "      <td>41</td>\n",
       "      <td>{'kneighborsclassifier__n_neighbors': 41}</td>\n",
       "      <td>0.761013</td>\n",
       "      <td>0.756689</td>\n",
       "      <td>0.703932</td>\n",
       "      <td>0.746990</td>\n",
       "      <td>0.764118</td>\n",
       "      <td>0.746548</td>\n",
       "      <td>0.022078</td>\n",
       "      <td>5</td>\n",
       "    </tr>\n",
       "    <tr>\n",
       "      <th>...</th>\n",
       "      <td>...</td>\n",
       "      <td>...</td>\n",
       "      <td>...</td>\n",
       "      <td>...</td>\n",
       "      <td>...</td>\n",
       "      <td>...</td>\n",
       "      <td>...</td>\n",
       "      <td>...</td>\n",
       "      <td>...</td>\n",
       "      <td>...</td>\n",
       "      <td>...</td>\n",
       "      <td>...</td>\n",
       "      <td>...</td>\n",
       "      <td>...</td>\n",
       "    </tr>\n",
       "    <tr>\n",
       "      <th>93</th>\n",
       "      <td>0.004805</td>\n",
       "      <td>0.000398</td>\n",
       "      <td>0.012201</td>\n",
       "      <td>0.000746</td>\n",
       "      <td>94</td>\n",
       "      <td>{'kneighborsclassifier__n_neighbors': 94}</td>\n",
       "      <td>0.701652</td>\n",
       "      <td>0.690690</td>\n",
       "      <td>0.690690</td>\n",
       "      <td>0.625263</td>\n",
       "      <td>0.697247</td>\n",
       "      <td>0.681109</td>\n",
       "      <td>0.028230</td>\n",
       "      <td>96</td>\n",
       "    </tr>\n",
       "    <tr>\n",
       "      <th>97</th>\n",
       "      <td>0.011003</td>\n",
       "      <td>0.004605</td>\n",
       "      <td>0.015603</td>\n",
       "      <td>0.002059</td>\n",
       "      <td>98</td>\n",
       "      <td>{'kneighborsclassifier__n_neighbors': 98}</td>\n",
       "      <td>0.689687</td>\n",
       "      <td>0.690690</td>\n",
       "      <td>0.690690</td>\n",
       "      <td>0.631255</td>\n",
       "      <td>0.697247</td>\n",
       "      <td>0.679914</td>\n",
       "      <td>0.024478</td>\n",
       "      <td>97</td>\n",
       "    </tr>\n",
       "    <tr>\n",
       "      <th>99</th>\n",
       "      <td>0.008002</td>\n",
       "      <td>0.002099</td>\n",
       "      <td>0.017604</td>\n",
       "      <td>0.002577</td>\n",
       "      <td>100</td>\n",
       "      <td>{'kneighborsclassifier__n_neighbors': 100}</td>\n",
       "      <td>0.689687</td>\n",
       "      <td>0.690690</td>\n",
       "      <td>0.690690</td>\n",
       "      <td>0.631255</td>\n",
       "      <td>0.697247</td>\n",
       "      <td>0.679914</td>\n",
       "      <td>0.024478</td>\n",
       "      <td>97</td>\n",
       "    </tr>\n",
       "    <tr>\n",
       "      <th>91</th>\n",
       "      <td>0.005001</td>\n",
       "      <td>0.000632</td>\n",
       "      <td>0.012203</td>\n",
       "      <td>0.001167</td>\n",
       "      <td>92</td>\n",
       "      <td>{'kneighborsclassifier__n_neighbors': 92}</td>\n",
       "      <td>0.689687</td>\n",
       "      <td>0.690690</td>\n",
       "      <td>0.703190</td>\n",
       "      <td>0.625263</td>\n",
       "      <td>0.690477</td>\n",
       "      <td>0.679862</td>\n",
       "      <td>0.027755</td>\n",
       "      <td>99</td>\n",
       "    </tr>\n",
       "    <tr>\n",
       "      <th>1</th>\n",
       "      <td>0.005803</td>\n",
       "      <td>0.000749</td>\n",
       "      <td>0.009601</td>\n",
       "      <td>0.000798</td>\n",
       "      <td>2</td>\n",
       "      <td>{'kneighborsclassifier__n_neighbors': 2}</td>\n",
       "      <td>0.690636</td>\n",
       "      <td>0.656630</td>\n",
       "      <td>0.620485</td>\n",
       "      <td>0.645743</td>\n",
       "      <td>0.684972</td>\n",
       "      <td>0.659693</td>\n",
       "      <td>0.025837</td>\n",
       "      <td>100</td>\n",
       "    </tr>\n",
       "  </tbody>\n",
       "</table>\n",
       "<p>100 rows × 14 columns</p>\n",
       "</div>"
      ]
     },
     "metadata": {},
     "execution_count": 230
    }
   ],
   "metadata": {}
  },
  {
   "cell_type": "code",
   "execution_count": 231,
   "source": [
    "best_k = df2['param_kneighborsclassifier__n_neighbors'].iloc[0]\r\n",
    "\r\n",
    "knn = KNeighborsClassifier(n_neighbors=best_k)\r\n",
    "knn.fit(X_train, y_train)"
   ],
   "outputs": [
    {
     "output_type": "execute_result",
     "data": {
      "text/plain": [
       "KNeighborsClassifier(n_neighbors=31)"
      ]
     },
     "metadata": {},
     "execution_count": 231
    }
   ],
   "metadata": {}
  },
  {
   "cell_type": "markdown",
   "source": [
    "### Exibindo resultados"
   ],
   "metadata": {}
  },
  {
   "cell_type": "code",
   "execution_count": 232,
   "source": [
    "y_pred = knn.predict(X_test)\r\n",
    "print(metrics.classification_report(y_test, y_pred, zero_division=0))"
   ],
   "outputs": [
    {
     "output_type": "stream",
     "name": "stdout",
     "text": [
      "              precision    recall  f1-score   support\n",
      "\n",
      "           0       0.72      0.81      0.76       100\n",
      "           1       0.54      0.41      0.46        54\n",
      "\n",
      "    accuracy                           0.67       154\n",
      "   macro avg       0.63      0.61      0.61       154\n",
      "weighted avg       0.65      0.67      0.66       154\n",
      "\n"
     ]
    }
   ],
   "metadata": {}
  }
 ],
 "metadata": {
  "orig_nbformat": 4,
  "language_info": {
   "name": "python",
   "version": "3.8.10",
   "mimetype": "text/x-python",
   "codemirror_mode": {
    "name": "ipython",
    "version": 3
   },
   "pygments_lexer": "ipython3",
   "nbconvert_exporter": "python",
   "file_extension": ".py"
  },
  "kernelspec": {
   "name": "python3",
   "display_name": "Python 3.8.10 64-bit ('MachineLearn': conda)"
  },
  "interpreter": {
   "hash": "62b88de6ee60551e82c84a8de79b5250f08b1ed0dbc54dc390bb75151b660ebe"
  }
 },
 "nbformat": 4,
 "nbformat_minor": 2
}