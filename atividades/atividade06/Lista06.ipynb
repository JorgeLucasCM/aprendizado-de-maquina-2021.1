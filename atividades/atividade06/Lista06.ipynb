{
 "metadata": {
  "language_info": {
   "codemirror_mode": {
    "name": "ipython",
    "version": 3
   },
   "file_extension": ".py",
   "mimetype": "text/x-python",
   "name": "python",
   "nbconvert_exporter": "python",
   "pygments_lexer": "ipython3",
   "version": "3.8.10"
  },
  "orig_nbformat": 4,
  "kernelspec": {
   "name": "python3",
   "display_name": "Python 3.8.10 64-bit ('MachineLearn': conda)"
  },
  "interpreter": {
   "hash": "62b88de6ee60551e82c84a8de79b5250f08b1ed0dbc54dc390bb75151b660ebe"
  }
 },
 "nbformat": 4,
 "nbformat_minor": 2,
 "cells": [
  {
   "source": [
    "# Ativdade 06\n",
    "\n",
    "## Nome: Jorge Lucas Colares Martins\n",
    "## Matricula: 402119"
   ],
   "cell_type": "markdown",
   "metadata": {}
  },
  {
   "source": [
    "## Importando bibliotecas"
   ],
   "cell_type": "markdown",
   "metadata": {}
  },
  {
   "cell_type": "code",
   "execution_count": 187,
   "metadata": {},
   "outputs": [],
   "source": [
    "import pandas as pd\n",
    "import numpy as np\n",
    "import sklearn\n",
    "from sklearn.model_selection import train_test_split\n",
    "from sklearn.neighbors import KNeighborsRegressor\n",
    "from sklearn.neighbors import KNeighborsClassifier\n",
    "from sklearn import metrics"
   ]
  },
  {
   "source": [
    "## Importando dataframe"
   ],
   "cell_type": "markdown",
   "metadata": {}
  },
  {
   "cell_type": "code",
   "execution_count": 188,
   "metadata": {},
   "outputs": [],
   "source": [
    "df = pd.read_csv(\"winequality-white.csv\",delimiter=';')"
   ]
  },
  {
   "source": [
    "## Questão 01"
   ],
   "cell_type": "markdown",
   "metadata": {}
  },
  {
   "source": [
    "### Obtendo tp, tn, fp, fn"
   ],
   "cell_type": "markdown",
   "metadata": {}
  },
  {
   "cell_type": "code",
   "execution_count": 189,
   "metadata": {},
   "outputs": [],
   "source": [
    "def compute_tp_tn_fn_fp(y_true, y_pred):\n",
    "    c_matrix = metrics.confusion_matrix(y_true, y_pred)\n",
    "    qtd_label = c_matrix.shape[0]\n",
    "    fn = []\n",
    "    fp = []\n",
    "    tn = []\n",
    "    qtd = []\n",
    "    tp = np.diagonal(c_matrix)\n",
    "    for i in range (qtd_label):\n",
    "        fn.append(c_matrix[i,:].sum() - c_matrix[i,i])\n",
    "        fp.append(c_matrix[:,i].sum() - c_matrix[i,i])\n",
    "        tn.append(c_matrix[:,:].sum() - c_matrix[:,i].sum() - c_matrix[i,:].sum())\n",
    "        qtd.append(c_matrix[i,:].sum())\n",
    "\n",
    "    qtd = np.array(qtd)\n",
    "    tp = np.array(tp)\n",
    "    tn = np.array(tn)\n",
    "    fn = np.array(fn)\n",
    "    fp = np.array(fp)\n",
    "\n",
    "    return tp, tn, fn, fp, qtd    "
   ]
  },
  {
   "source": [
    "### (a) Acurácia"
   ],
   "cell_type": "markdown",
   "metadata": {}
  },
  {
   "cell_type": "code",
   "execution_count": 190,
   "metadata": {},
   "outputs": [],
   "source": [
    "def comp_accuracy(y_true, y_pred):\n",
    "    tp, tn, fn, fp, qtd = compute_tp_tn_fn_fp(y_true, y_pred)\n",
    "    tp = tp.sum()\n",
    "    c_matrix = metrics.confusion_matrix(y_true, y_pred).sum()\n",
    "    \n",
    "    return (tp)/ float( c_matrix)"
   ]
  },
  {
   "source": [
    "### (b) Precisão"
   ],
   "cell_type": "markdown",
   "metadata": {}
  },
  {
   "cell_type": "code",
   "execution_count": 191,
   "metadata": {},
   "outputs": [],
   "source": [
    "def comp_precision(y_true, y_pred):\n",
    "    tp, tn, fn, fp, qtd = compute_tp_tn_fn_fp(y_true, y_pred)\n",
    "    avg_vec = np.true_divide(tp,fp+tp, where=(fp+tp)!=0)\n",
    "    return np.average(avg_vec, weights = qtd)"
   ]
  },
  {
   "source": [
    "### (c) Recall"
   ],
   "cell_type": "markdown",
   "metadata": {}
  },
  {
   "cell_type": "code",
   "execution_count": 192,
   "metadata": {},
   "outputs": [],
   "source": [
    "def comp_recall(y_true, y_pred):\n",
    "    tp, tn, fn, fp, qtd = compute_tp_tn_fn_fp(y_true, y_pred)\n",
    "    avg_vec = np.true_divide(tp,fn+tp, where=(fn+tp)!=0)\n",
    "    return np.average(avg_vec, weights = qtd)"
   ]
  },
  {
   "source": [
    "### (d) F1-Measure"
   ],
   "cell_type": "markdown",
   "metadata": {}
  },
  {
   "cell_type": "code",
   "execution_count": 193,
   "metadata": {},
   "outputs": [],
   "source": [
    "def comp_f1m(y_true, y_pred):\n",
    "    tp, tn, fn, fp, qtd = compute_tp_tn_fn_fp(y_true, y_pred)\n",
    "    p = np.true_divide(tp,fp+tp, where=(fp+tp)!=0)\n",
    "    r = np.true_divide(tp,fn+tp, where=(fn+tp)!=0)\n",
    "    result = np.true_divide((2*r*p),(r+p), where=(p+r)!=0)\n",
    "    return np.average(result, weights = qtd)"
   ]
  },
  {
   "source": [
    "### (e) MAE"
   ],
   "cell_type": "markdown",
   "metadata": {}
  },
  {
   "cell_type": "code",
   "execution_count": 194,
   "metadata": {},
   "outputs": [],
   "source": [
    "def comp_mae(y_true, y_pred):\n",
    "    return np.mean(abs(y_true - y_pred))"
   ]
  },
  {
   "source": [
    "### (f) RMSE"
   ],
   "cell_type": "markdown",
   "metadata": {}
  },
  {
   "cell_type": "code",
   "execution_count": 195,
   "metadata": {},
   "outputs": [],
   "source": [
    "def comp_rmse(y_true, y_pred):\n",
    "    return np.sqrt(np.mean((y_true - y_pred)**2))"
   ]
  },
  {
   "source": [
    "## Questão 02"
   ],
   "cell_type": "markdown",
   "metadata": {}
  },
  {
   "source": [
    "### Separando em train e test e guardando resultado"
   ],
   "cell_type": "markdown",
   "metadata": {}
  },
  {
   "cell_type": "code",
   "execution_count": 196,
   "metadata": {},
   "outputs": [],
   "source": [
    "X_train, X_test, y_train, y_test = train_test_split(df.drop('quality',axis=1), df['quality'], test_size=0.3, random_state= 42)\n",
    "\n",
    "knn_c = KNeighborsClassifier(n_neighbors=1)\n",
    "knn_c.fit(X_train, y_train)\n",
    "result_c = knn_c.predict(X_test)\n",
    "\n",
    "knn_r = KNeighborsRegressor(n_neighbors=1)\n",
    "knn_r.fit(X_train, y_train)\n",
    "result_r = knn_r.predict(X_test)\n"
   ]
  },
  {
   "source": [
    "###  Acurácia"
   ],
   "cell_type": "markdown",
   "metadata": {}
  },
  {
   "cell_type": "code",
   "execution_count": 197,
   "metadata": {},
   "outputs": [
    {
     "output_type": "stream",
     "name": "stdout",
     "text": [
      "0.5591836734693878\n0.5591836734693878\n"
     ]
    }
   ],
   "source": [
    "#scikitlearn\n",
    "print(\"Scikitlearn: \",metrics.accuracy_score(y_test,result_c))\n",
    "\n",
    "#implementada\n",
    "print(\"Implmentada: \",comp_accuracy(y_test, result_c))"
   ]
  },
  {
   "source": [
    "### Precisão"
   ],
   "cell_type": "markdown",
   "metadata": {}
  },
  {
   "cell_type": "code",
   "execution_count": 198,
   "metadata": {},
   "outputs": [
    {
     "output_type": "stream",
     "name": "stdout",
     "text": [
      "0.5584661180522098\nImplmentada:  0.5584661180522098\n"
     ]
    }
   ],
   "source": [
    "#scikitlearn\n",
    "print(\"Scikitlearn: \",metrics.precision_score(y_test, result_c, average='weighted'))\n",
    "\n",
    "#implementada\n",
    "print(\"Implmentada: \",comp_precision(y_test,result_c))"
   ]
  },
  {
   "source": [
    "### Recall"
   ],
   "cell_type": "markdown",
   "metadata": {}
  },
  {
   "cell_type": "code",
   "execution_count": 199,
   "metadata": {},
   "outputs": [
    {
     "output_type": "stream",
     "name": "stdout",
     "text": [
      "0.5591836734693878\nImplmentada:  0.5591836734693878\n"
     ]
    }
   ],
   "source": [
    "#scikitlearn\n",
    "print(\"Scikitlearn: \",metrics.recall_score(y_test, result_c, average = 'weighted', zero_division=0))\n",
    "\n",
    "\n",
    "#implementada\n",
    "print(\"Implmentada: \",comp_recall(y_test,result_c))"
   ]
  },
  {
   "source": [
    "### F1-Measure"
   ],
   "cell_type": "markdown",
   "metadata": {}
  },
  {
   "cell_type": "code",
   "execution_count": 200,
   "metadata": {},
   "outputs": [
    {
     "output_type": "stream",
     "name": "stdout",
     "text": [
      "0.5586586307953016\nImplmentada:  0.5586586307953016\n"
     ]
    }
   ],
   "source": [
    "#scikitlearn\n",
    "print(\"Scikitlearn: \",metrics.f1_score(y_test, result_c, average = 'weighted', zero_division=0))\n",
    "\n",
    "#implementada\n",
    "print(\"Implmentada: \",comp_f1m(y_test, result_c))"
   ]
  },
  {
   "source": [
    "## Questão 03"
   ],
   "cell_type": "markdown",
   "metadata": {}
  },
  {
   "source": [
    "### MAE"
   ],
   "cell_type": "markdown",
   "metadata": {}
  },
  {
   "cell_type": "code",
   "execution_count": 201,
   "metadata": {},
   "outputs": [
    {
     "output_type": "stream",
     "name": "stdout",
     "text": [
      "0.54421768707483\nImplmentada:  0.54421768707483\n"
     ]
    }
   ],
   "source": [
    "#scikitlearn\n",
    "print(\"Scikitlearn: \",metrics.mean_absolute_error(y_test, result_r))\n",
    "\n",
    "#implementada\n",
    "print(\"Implmentada: \",comp_mae(y_test,result_r))"
   ]
  },
  {
   "source": [
    "### RMSE"
   ],
   "cell_type": "markdown",
   "metadata": {}
  },
  {
   "cell_type": "code",
   "execution_count": 202,
   "metadata": {},
   "outputs": [
    {
     "output_type": "stream",
     "name": "stdout",
     "text": [
      "0.8806305718527109\nImplmentada:  0.8806305718527109\n"
     ]
    }
   ],
   "source": [
    "#scikitlearn\n",
    "print(\"Scikitlearn: \",metrics.mean_squared_error(y_test, result_r, squared=False))\n",
    "\n",
    "#implementada\n",
    "print(\"Implmentada: \",comp_rmse(y_test, result_r))\n"
   ]
  }
 ]
}