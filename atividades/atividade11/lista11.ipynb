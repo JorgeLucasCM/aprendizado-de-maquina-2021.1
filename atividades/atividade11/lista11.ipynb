{
 "cells": [
  {
   "cell_type": "markdown",
   "source": [
    "# Lista 11\r\n",
    "\r\n",
    "## Nome: Jorge Lucas Colares Martins\r\n",
    "## Matricula: 402119"
   ],
   "metadata": {}
  },
  {
   "cell_type": "markdown",
   "source": [
    "## Importando bibliotecas"
   ],
   "metadata": {}
  },
  {
   "cell_type": "code",
   "execution_count": 210,
   "source": [
    "import pandas as pd\r\n",
    "from sklearn.model_selection import train_test_split\r\n",
    "from sklearn import metrics\r\n",
    "from sklearn.decomposition import PCA\r\n",
    "from sklearn.neighbors import KNeighborsClassifier as KNN\r\n",
    "from sklearn.ensemble import RandomForestClassifier\r\n",
    "from sklearn.ensemble import GradientBoostingClassifier\r\n",
    "from xgboost import XGBClassifier\r\n",
    "import lightgbm as lgb\r\n",
    "from catboost import CatBoostClassifier\r\n",
    "from sklearn.linear_model import Perceptron\r\n",
    "from sklearn.neural_network import MLPClassifier\r\n",
    "\r\n",
    "import warnings\r\n",
    "warnings.filterwarnings('ignore')\r\n"
   ],
   "outputs": [],
   "metadata": {}
  },
  {
   "cell_type": "markdown",
   "source": [
    "## Importando dataframe"
   ],
   "metadata": {}
  },
  {
   "cell_type": "code",
   "execution_count": 211,
   "source": [
    "df = pd.read_csv(\"diabetes.csv\",delimiter=',')\r\n",
    "df"
   ],
   "outputs": [
    {
     "output_type": "execute_result",
     "data": {
      "text/plain": [
       "     Pregnancies  Glucose  BloodPressure  SkinThickness  Insulin   BMI  \\\n",
       "0              6      148             72             35        0  33.6   \n",
       "1              1       85             66             29        0  26.6   \n",
       "2              8      183             64              0        0  23.3   \n",
       "3              1       89             66             23       94  28.1   \n",
       "4              0      137             40             35      168  43.1   \n",
       "..           ...      ...            ...            ...      ...   ...   \n",
       "763           10      101             76             48      180  32.9   \n",
       "764            2      122             70             27        0  36.8   \n",
       "765            5      121             72             23      112  26.2   \n",
       "766            1      126             60              0        0  30.1   \n",
       "767            1       93             70             31        0  30.4   \n",
       "\n",
       "     DiabetesPedigreeFunction  Age  Outcome  \n",
       "0                       0.627   50        1  \n",
       "1                       0.351   31        0  \n",
       "2                       0.672   32        1  \n",
       "3                       0.167   21        0  \n",
       "4                       2.288   33        1  \n",
       "..                        ...  ...      ...  \n",
       "763                     0.171   63        0  \n",
       "764                     0.340   27        0  \n",
       "765                     0.245   30        0  \n",
       "766                     0.349   47        1  \n",
       "767                     0.315   23        0  \n",
       "\n",
       "[768 rows x 9 columns]"
      ],
      "text/html": [
       "<div>\n",
       "<style scoped>\n",
       "    .dataframe tbody tr th:only-of-type {\n",
       "        vertical-align: middle;\n",
       "    }\n",
       "\n",
       "    .dataframe tbody tr th {\n",
       "        vertical-align: top;\n",
       "    }\n",
       "\n",
       "    .dataframe thead th {\n",
       "        text-align: right;\n",
       "    }\n",
       "</style>\n",
       "<table border=\"1\" class=\"dataframe\">\n",
       "  <thead>\n",
       "    <tr style=\"text-align: right;\">\n",
       "      <th></th>\n",
       "      <th>Pregnancies</th>\n",
       "      <th>Glucose</th>\n",
       "      <th>BloodPressure</th>\n",
       "      <th>SkinThickness</th>\n",
       "      <th>Insulin</th>\n",
       "      <th>BMI</th>\n",
       "      <th>DiabetesPedigreeFunction</th>\n",
       "      <th>Age</th>\n",
       "      <th>Outcome</th>\n",
       "    </tr>\n",
       "  </thead>\n",
       "  <tbody>\n",
       "    <tr>\n",
       "      <th>0</th>\n",
       "      <td>6</td>\n",
       "      <td>148</td>\n",
       "      <td>72</td>\n",
       "      <td>35</td>\n",
       "      <td>0</td>\n",
       "      <td>33.6</td>\n",
       "      <td>0.627</td>\n",
       "      <td>50</td>\n",
       "      <td>1</td>\n",
       "    </tr>\n",
       "    <tr>\n",
       "      <th>1</th>\n",
       "      <td>1</td>\n",
       "      <td>85</td>\n",
       "      <td>66</td>\n",
       "      <td>29</td>\n",
       "      <td>0</td>\n",
       "      <td>26.6</td>\n",
       "      <td>0.351</td>\n",
       "      <td>31</td>\n",
       "      <td>0</td>\n",
       "    </tr>\n",
       "    <tr>\n",
       "      <th>2</th>\n",
       "      <td>8</td>\n",
       "      <td>183</td>\n",
       "      <td>64</td>\n",
       "      <td>0</td>\n",
       "      <td>0</td>\n",
       "      <td>23.3</td>\n",
       "      <td>0.672</td>\n",
       "      <td>32</td>\n",
       "      <td>1</td>\n",
       "    </tr>\n",
       "    <tr>\n",
       "      <th>3</th>\n",
       "      <td>1</td>\n",
       "      <td>89</td>\n",
       "      <td>66</td>\n",
       "      <td>23</td>\n",
       "      <td>94</td>\n",
       "      <td>28.1</td>\n",
       "      <td>0.167</td>\n",
       "      <td>21</td>\n",
       "      <td>0</td>\n",
       "    </tr>\n",
       "    <tr>\n",
       "      <th>4</th>\n",
       "      <td>0</td>\n",
       "      <td>137</td>\n",
       "      <td>40</td>\n",
       "      <td>35</td>\n",
       "      <td>168</td>\n",
       "      <td>43.1</td>\n",
       "      <td>2.288</td>\n",
       "      <td>33</td>\n",
       "      <td>1</td>\n",
       "    </tr>\n",
       "    <tr>\n",
       "      <th>...</th>\n",
       "      <td>...</td>\n",
       "      <td>...</td>\n",
       "      <td>...</td>\n",
       "      <td>...</td>\n",
       "      <td>...</td>\n",
       "      <td>...</td>\n",
       "      <td>...</td>\n",
       "      <td>...</td>\n",
       "      <td>...</td>\n",
       "    </tr>\n",
       "    <tr>\n",
       "      <th>763</th>\n",
       "      <td>10</td>\n",
       "      <td>101</td>\n",
       "      <td>76</td>\n",
       "      <td>48</td>\n",
       "      <td>180</td>\n",
       "      <td>32.9</td>\n",
       "      <td>0.171</td>\n",
       "      <td>63</td>\n",
       "      <td>0</td>\n",
       "    </tr>\n",
       "    <tr>\n",
       "      <th>764</th>\n",
       "      <td>2</td>\n",
       "      <td>122</td>\n",
       "      <td>70</td>\n",
       "      <td>27</td>\n",
       "      <td>0</td>\n",
       "      <td>36.8</td>\n",
       "      <td>0.340</td>\n",
       "      <td>27</td>\n",
       "      <td>0</td>\n",
       "    </tr>\n",
       "    <tr>\n",
       "      <th>765</th>\n",
       "      <td>5</td>\n",
       "      <td>121</td>\n",
       "      <td>72</td>\n",
       "      <td>23</td>\n",
       "      <td>112</td>\n",
       "      <td>26.2</td>\n",
       "      <td>0.245</td>\n",
       "      <td>30</td>\n",
       "      <td>0</td>\n",
       "    </tr>\n",
       "    <tr>\n",
       "      <th>766</th>\n",
       "      <td>1</td>\n",
       "      <td>126</td>\n",
       "      <td>60</td>\n",
       "      <td>0</td>\n",
       "      <td>0</td>\n",
       "      <td>30.1</td>\n",
       "      <td>0.349</td>\n",
       "      <td>47</td>\n",
       "      <td>1</td>\n",
       "    </tr>\n",
       "    <tr>\n",
       "      <th>767</th>\n",
       "      <td>1</td>\n",
       "      <td>93</td>\n",
       "      <td>70</td>\n",
       "      <td>31</td>\n",
       "      <td>0</td>\n",
       "      <td>30.4</td>\n",
       "      <td>0.315</td>\n",
       "      <td>23</td>\n",
       "      <td>0</td>\n",
       "    </tr>\n",
       "  </tbody>\n",
       "</table>\n",
       "<p>768 rows × 9 columns</p>\n",
       "</div>"
      ]
     },
     "metadata": {},
     "execution_count": 211
    }
   ],
   "metadata": {}
  },
  {
   "cell_type": "markdown",
   "source": [
    "## Questão 01 - Separando em treino e teste."
   ],
   "metadata": {}
  },
  {
   "cell_type": "code",
   "execution_count": 212,
   "source": [
    "X_train, X_test, y_train, y_test = train_test_split(df.drop('Outcome',axis=1), df['Outcome'], test_size=0.2, random_state= 42)"
   ],
   "outputs": [],
   "metadata": {}
  },
  {
   "cell_type": "markdown",
   "source": [
    "## Questão 02 - Criando modelos\r\n"
   ],
   "metadata": {}
  },
  {
   "cell_type": "markdown",
   "source": [
    "### 1 - Random Forest"
   ],
   "metadata": {}
  },
  {
   "cell_type": "code",
   "execution_count": 213,
   "source": [
    "rf = RandomForestClassifier(max_depth=2, random_state=42).fit(X_train, y_train)\r\n",
    "\r\n",
    "y_pred_rf_train= rf.predict(X_train)\r\n",
    "\r\n",
    "y_pred_rf_test= rf.predict(X_test)\r\n"
   ],
   "outputs": [],
   "metadata": {}
  },
  {
   "cell_type": "markdown",
   "source": [
    "### 2- Gradient Boosting"
   ],
   "metadata": {}
  },
  {
   "cell_type": "code",
   "execution_count": 214,
   "source": [
    "gb = GradientBoostingClassifier(n_estimators=100, learning_rate=1.0, max_depth=1, random_state=42).fit(X_train, y_train)\r\n",
    "\r\n",
    "y_pred_gb_train= gb.predict(X_train)\r\n",
    "\r\n",
    "y_pred_gb_test= gb.predict(X_test)\r\n"
   ],
   "outputs": [],
   "metadata": {}
  },
  {
   "cell_type": "markdown",
   "source": [
    "### 3 - XGBoost"
   ],
   "metadata": {}
  },
  {
   "cell_type": "code",
   "execution_count": 215,
   "source": [
    "xgb = XGBClassifier(random_state=42).fit(X_train,y_train)\r\n",
    "\r\n",
    "y_pred_xgb_train= xgb.predict(X_train)\r\n",
    "\r\n",
    "y_pred_xgb_test= xgb.predict(X_test)"
   ],
   "outputs": [
    {
     "output_type": "stream",
     "name": "stdout",
     "text": [
      "[21:14:05] WARNING: ..\\src\\learner.cc:1095: Starting in XGBoost 1.3.0, the default evaluation metric used with the objective 'binary:logistic' was changed from 'error' to 'logloss'. Explicitly set eval_metric if you'd like to restore the old behavior.\n"
     ]
    }
   ],
   "metadata": {}
  },
  {
   "cell_type": "markdown",
   "source": [
    "### 4 - LightGBM"
   ],
   "metadata": {}
  },
  {
   "cell_type": "code",
   "execution_count": 216,
   "source": [
    "\r\n",
    "lgb = lgb.LGBMClassifier(random_state=42).fit(X_train, y_train)\r\n",
    "\r\n",
    "y_pred_lgb_train= lgb.predict(X_train)\r\n",
    "\r\n",
    "y_pred_lgb_test= lgb.predict(X_test)"
   ],
   "outputs": [],
   "metadata": {}
  },
  {
   "cell_type": "markdown",
   "source": [
    "### 5 - CatBoost"
   ],
   "metadata": {}
  },
  {
   "cell_type": "code",
   "execution_count": 217,
   "source": [
    "cb = CatBoostClassifier(random_state=42, verbose=False).fit(X_train, y_train);\r\n",
    "\r\n",
    "y_pred_cb_train= cb.predict(X_train)\r\n",
    "\r\n",
    "y_pred_cb_test= cb.predict(X_test)"
   ],
   "outputs": [],
   "metadata": {}
  },
  {
   "cell_type": "markdown",
   "source": [
    "### 6 - Perceptron"
   ],
   "metadata": {}
  },
  {
   "cell_type": "code",
   "execution_count": 218,
   "source": [
    "pc = Perceptron(tol=1e-9, random_state=14).fit(X_train, y_train)\r\n",
    "\r\n",
    "y_pred_pc_train= pc.predict(X_train)\r\n",
    "\r\n",
    "y_pred_pc_test= pc.predict(X_test)"
   ],
   "outputs": [],
   "metadata": {}
  },
  {
   "cell_type": "markdown",
   "source": [
    "### 7 - Multi-layer Perceptron"
   ],
   "metadata": {}
  },
  {
   "cell_type": "code",
   "execution_count": 219,
   "source": [
    "mpc = MLPClassifier(random_state=42).fit(X_train, y_train)\r\n",
    "\r\n",
    "y_pred_mpc_train= mpc.predict(X_train)\r\n",
    "\r\n",
    "y_pred_mpc_test= mpc.predict(X_test)"
   ],
   "outputs": [],
   "metadata": {}
  },
  {
   "cell_type": "markdown",
   "source": [
    "### Resultados"
   ],
   "metadata": {}
  },
  {
   "cell_type": "code",
   "execution_count": 220,
   "source": [
    "# RandonForest\r\n",
    "print('|---Random Forest---|')\r\n",
    "\r\n",
    "f1_rf_train = metrics.f1_score(y_train, y_pred_rf_train)\r\n",
    "f1_rf_test = metrics.f1_score(y_test, y_pred_rf_test)\r\n",
    "\r\n",
    "print('F1 Score RF treino: {:.3f}'.format(f1_rf_train))\r\n",
    "print('F1 Score RF teste: {:.3f}\\n'.format(f1_rf_test))\r\n",
    "\r\n",
    "# GradientBoosting\r\n",
    "print('|---GradientBoosting---|')\r\n",
    "\r\n",
    "f1_gb_train = metrics.f1_score(y_train, y_pred_gb_train)\r\n",
    "f1_gb_test = metrics.f1_score(y_test, y_pred_gb_test)\r\n",
    "\r\n",
    "print('F1 Score GB treino: {:.3f}'.format(f1_gb_train))\r\n",
    "print('F1 Score GB teste: {:.3f}\\n'.format(f1_gb_test))\r\n",
    "\r\n",
    "# XGBoost\r\n",
    "print('|---XGBoost---|')\r\n",
    "\r\n",
    "f1_xgb_train = metrics.f1_score(y_train, y_pred_xgb_train)\r\n",
    "f1_xgb_test = metrics.f1_score(y_test, y_pred_xgb_test)\r\n",
    "\r\n",
    "print('F1 Score XGB treino: {:.3f}'.format(f1_xgb_train))\r\n",
    "print('F1 Score XGB teste: {:.3f}\\n'.format(f1_xgb_test))\r\n",
    "\r\n",
    "\r\n",
    "# LightGBM\r\n",
    "print('|---LightGBM---|')\r\n",
    "\r\n",
    "f1_lgb_train = metrics.f1_score(y_train, y_pred_lgb_train)\r\n",
    "f1_lgb_test = metrics.f1_score(y_test, y_pred_lgb_test)\r\n",
    "\r\n",
    "print('F1 Score LGB treino: {:.3f}'.format(f1_lgb_train))\r\n",
    "print('F1 Score LGB teste: {:.3f}\\n'.format(f1_lgb_test))\r\n",
    "\r\n",
    "# CatBoost\r\n",
    "print('|---CatBoost---|')\r\n",
    "\r\n",
    "f1_cb_train = metrics.f1_score(y_train, y_pred_cb_train)\r\n",
    "f1_cb_test = metrics.f1_score(y_test, y_pred_cb_test)\r\n",
    "\r\n",
    "print('F1 Score CB treino: {:.3f}'.format(f1_cb_train))\r\n",
    "print('F1 Score CB teste: {:.3f}\\n'.format(f1_cb_test))\r\n",
    "\r\n",
    "# Perceptron\r\n",
    "print('|---Perceptron---|')\r\n",
    "\r\n",
    "f1_pc_train = metrics.f1_score(y_train, y_pred_pc_train)\r\n",
    "f1_pc_test = metrics.f1_score(y_test, y_pred_pc_test)\r\n",
    "\r\n",
    "print('F1 Score PC treino: {:.3f}'.format(f1_pc_train))\r\n",
    "print('F1 Score PC teste: {:.3f}\\n'.format(f1_pc_test))\r\n",
    "\r\n",
    "# Multi-layer Perceptron\r\n",
    "print('|---Multi-layer Perceptron---|')\r\n",
    "\r\n",
    "f1_mpc_train = metrics.f1_score(y_train, y_pred_mpc_train)\r\n",
    "f1_mpc_test = metrics.f1_score(y_test, y_pred_mpc_test)\r\n",
    "\r\n",
    "print('F1 Score MPC treino: {:.3f}'.format(f1_mpc_train))\r\n",
    "print('F1 Score MPC teste: {:.3f}\\n'.format(f1_mpc_test))"
   ],
   "outputs": [
    {
     "output_type": "stream",
     "name": "stdout",
     "text": [
      "|---Random Forest---|\n",
      "F1 Score RF treino: 0.576\n",
      "F1 Score RF teste: 0.652\n",
      "\n",
      "|---GradientBoosting---|\n",
      "F1 Score GB treino: 0.818\n",
      "F1 Score GB teste: 0.625\n",
      "\n",
      "|---XGBoost---|\n",
      "F1 Score XGB treino: 1.000\n",
      "F1 Score XGB teste: 0.600\n",
      "\n",
      "|---LightGBM---|\n",
      "F1 Score LGB treino: 1.000\n",
      "F1 Score LGB teste: 0.639\n",
      "\n",
      "|---CatBoost---|\n",
      "F1 Score CB treino: 0.941\n",
      "F1 Score CB teste: 0.655\n",
      "\n",
      "|---Perceptron---|\n",
      "F1 Score PC treino: 0.472\n",
      "F1 Score PC teste: 0.573\n",
      "\n",
      "|---Multi-layer Perceptron---|\n",
      "F1 Score MPC treino: 0.638\n",
      "F1 Score MPC teste: 0.617\n",
      "\n"
     ]
    }
   ],
   "metadata": {}
  }
 ],
 "metadata": {
  "orig_nbformat": 4,
  "language_info": {
   "name": "python",
   "version": "3.8.10",
   "mimetype": "text/x-python",
   "codemirror_mode": {
    "name": "ipython",
    "version": 3
   },
   "pygments_lexer": "ipython3",
   "nbconvert_exporter": "python",
   "file_extension": ".py"
  },
  "kernelspec": {
   "name": "python3",
   "display_name": "Python 3.8.10 64-bit ('MachineLearn': conda)"
  },
  "interpreter": {
   "hash": "62b88de6ee60551e82c84a8de79b5250f08b1ed0dbc54dc390bb75151b660ebe"
  }
 },
 "nbformat": 4,
 "nbformat_minor": 2
}